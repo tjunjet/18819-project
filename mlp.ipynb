{
 "cells": [
  {
   "cell_type": "markdown",
   "metadata": {},
   "source": [
    "# Data Loading"
   ]
  },
  {
   "cell_type": "markdown",
   "metadata": {},
   "source": [
    "### Loading the Exoplanet training data\n",
    "\n",
    "The exoplanet training data has already been separated into X_train, X_test, y_train, y_test. \n",
    "\n",
    "We will use it for the training\n"
   ]
  },
  {
   "cell_type": "code",
   "execution_count": 67,
   "metadata": {},
   "outputs": [],
   "source": [
    "import numpy as np\n",
    "import matplotlib.pyplot as plt\n",
    "import pandas as pd"
   ]
  },
  {
   "cell_type": "code",
   "execution_count": 68,
   "metadata": {},
   "outputs": [
    {
     "data": {
      "text/plain": [
       "(7400, 38)"
      ]
     },
     "execution_count": 68,
     "metadata": {},
     "output_type": "execute_result"
    }
   ],
   "source": [
    "# X_train = np.loadtxt('middle_data/X_train.txt', delimiter=' ')\n",
    "# X_test  = np.loadtxt('middle_data/X_test.txt', delimiter=' ')\n",
    "\n",
    "# Y_train = np.loadtxt('middle_data/Y_train.txt', delimiter=' ')\n",
    "# Y_test  = np.loadtxt('middle_data/Y_test.txt', delimiter=' ')\n",
    "\n",
    "data = np.loadtxt('planet.txt', delimiter=',', dtype=float)\n",
    "data.shape"
   ]
  },
  {
   "cell_type": "code",
   "execution_count": 69,
   "metadata": {},
   "outputs": [
    {
     "name": "stdout",
     "output_type": "stream",
     "text": [
      "X_train shape: (2000, 37)\n",
      "X_test shape: (1000, 37)\n",
      "Y_train shape: (2000,)\n",
      "Y_test shape: (1000,)\n"
     ]
    }
   ],
   "source": [
    "X_train = data[:2000, :-1]\n",
    "Y_train = data[:2000, -1]\n",
    "\n",
    "X_test = data[2000:3000, :-1]\n",
    "Y_test = data[2000:3000, -1]\n",
    "\n",
    "\n",
    "print(f\"X_train shape: {X_train.shape}\")\n",
    "print(f\"X_test shape: {X_test.shape}\")\n",
    "print(f\"Y_train shape: {Y_train.shape}\")\n",
    "print(f\"Y_test shape: {Y_test.shape}\")"
   ]
  },
  {
   "cell_type": "code",
   "execution_count": 70,
   "metadata": {},
   "outputs": [
    {
     "name": "stdout",
     "output_type": "stream",
     "text": [
      "<class 'numpy.ndarray'>\n"
     ]
    }
   ],
   "source": [
    "print(type(X_train))"
   ]
  },
  {
   "cell_type": "markdown",
   "metadata": {},
   "source": [
    "### 1. Data pre-processing \n",
    "\n",
    "In this step, we will perform normalization of the X dataset, and label y in binary terms"
   ]
  },
  {
   "cell_type": "code",
   "execution_count": 71,
   "metadata": {},
   "outputs": [
    {
     "name": "stdout",
     "output_type": "stream",
     "text": [
      "X_train shape after selection: (2000, 37)\n",
      "X_test shape after selection: (1000, 37)\n"
     ]
    }
   ],
   "source": [
    "from sklearn.decomposition import PCA\n",
    "from sklearn.preprocessing import MinMaxScaler\n",
    "\n",
    "# # Dimensionality reduction\n",
    "# pca = PCA(n_components=2)\n",
    "# X_train = pca.fit_transform(X_train)\n",
    "# X_test = pca.transform(X_test)\n",
    "\n",
    "# Normalize data to the range [-1, 1] (use the training set to fit the scaler)\n",
    "scaler = MinMaxScaler(feature_range=(-1, 1))\n",
    "X_train = scaler.fit_transform(X_train)\n",
    "X_test = scaler.transform(X_test)\n",
    "\n",
    "# Ensure labels are binary (if not already binary)\n",
    "Y_train = (Y_train > np.median(Y_train)).astype(int)\n",
    "Y_test = (Y_test > np.median(Y_test)).astype(int)\n",
    "\n",
    "print(f\"X_train shape after selection: {X_train.shape}\")\n",
    "print(f\"X_test shape after selection: {X_test.shape}\")"
   ]
  },
  {
   "cell_type": "code",
   "execution_count": 72,
   "metadata": {},
   "outputs": [
    {
     "data": {
      "text/plain": [
       "(2000,)"
      ]
     },
     "execution_count": 72,
     "metadata": {},
     "output_type": "execute_result"
    }
   ],
   "source": [
    "Y_train.shape"
   ]
  },
  {
   "cell_type": "markdown",
   "metadata": {},
   "source": [
    "# Building MLP model"
   ]
  },
  {
   "cell_type": "code",
   "execution_count": 73,
   "metadata": {},
   "outputs": [],
   "source": [
    "import matplotlib.pyplot as plt\n",
    "import numpy as np\n",
    "import torch\n",
    "import torch.nn as nn\n",
    "import torchvision\n",
    "from torchvision import transforms\n",
    "from torch.utils.data import DataLoader\n",
    "from tqdm import tqdm"
   ]
  },
  {
   "cell_type": "code",
   "execution_count": 74,
   "metadata": {},
   "outputs": [],
   "source": [
    "device = 'cuda' if torch.cuda.is_available() else 'cpu'\n",
    "# Hyperparameters\n",
    "batch_size = 32\n",
    "learning_rate = 0.0001\n",
    "epochs = 30\n",
    "num_classes = 2\n",
    "input_size = 37"
   ]
  },
  {
   "cell_type": "code",
   "execution_count": 75,
   "metadata": {},
   "outputs": [],
   "source": [
    "# Building dataset \n",
    "X_train_tensor = torch.tensor(X_train, dtype=torch.float32)\n",
    "Y_train_tensor = torch.tensor(Y_train, dtype=torch.long)  \n",
    "train_dataset = torch.utils.data.TensorDataset(X_train_tensor, Y_train_tensor)\n",
    "train_loader = DataLoader(train_dataset, batch_size=batch_size, shuffle=True)\n",
    "\n",
    "X_test_tensor = torch.tensor(X_test, dtype=torch.float32)\n",
    "Y_test_tensor = torch.tensor(Y_test, dtype=torch.long)  \n",
    "test_dataset = torch.utils.data.TensorDataset(X_test_tensor, Y_test_tensor)\n",
    "test_loader = DataLoader(test_dataset, batch_size=batch_size, shuffle=True)\n",
    "\n"
   ]
  },
  {
   "cell_type": "code",
   "execution_count": 76,
   "metadata": {},
   "outputs": [],
   "source": [
    "# Creating MLP Model\n",
    "class MLPModel(nn.Module):\n",
    "    def __init__(self, input_size, num_classes):\n",
    "        super(MLPModel, self).__init__()\n",
    "        self.linear1 = nn.Linear(input_size, 128)\n",
    "        self.linear2 = nn.Linear(128, 128)\n",
    "        self.linear3 = nn.Linear(128, num_classes)\n",
    "        self.relu = nn.ReLU()\n",
    "        # self.sigmoid = nn.Sigmoid()\n",
    "\n",
    "    def forward(self, x: torch.Tensor) -> torch.Tensor:\n",
    "        x = self.linear1(x)\n",
    "        x = self.relu(x)\n",
    "        x = self.linear2(x)\n",
    "        x = self.relu(x)\n",
    "        x = self.linear3(x)\n",
    "        # x = self.sigmoid(x)\n",
    "        return x\n"
   ]
  },
  {
   "cell_type": "code",
   "execution_count": 77,
   "metadata": {},
   "outputs": [],
   "source": [
    "# Creating Training Loop\n",
    "# Referenced from: https://pytorch.org/tutorials/beginner/introyt/trainingyt.html\n",
    "def train_one_epoch(model, criterion, optimizer, trainloader):\n",
    "    running_loss = 0.0\n",
    "\n",
    "    for inputs, labels in tqdm(trainloader):\n",
    "        optimizer.zero_grad()\n",
    "        inputs = inputs.to(device)\n",
    "        labels = labels.to(device)\n",
    "        outputs = model(inputs)\n",
    "        loss = criterion(outputs, labels)\n",
    "        loss.backward()\n",
    "        optimizer.step()\n",
    "        # scheduler.step()\n",
    "        running_loss += loss.item()\n",
    "    train_loss = running_loss / len(trainloader)\n",
    "    return train_loss\n",
    "\n",
    "def evaluate_loss(model, criterion, testloader, device):\n",
    "    test_loss = 0.0\n",
    "    with torch.no_grad():\n",
    "        for inputs, labels in testloader:\n",
    "            inputs = inputs.to(device)\n",
    "            labels = labels.to(device)\n",
    "            outputs = model(inputs)\n",
    "            loss = criterion(outputs, labels)\n",
    "            test_loss += loss.item()\n",
    "    avg_loss = test_loss / len(testloader)\n",
    "    return avg_loss\n",
    "\n",
    "def evaluate_accuracy(model, testloader, device):\n",
    "    correct = 0\n",
    "    total = 0\n",
    "\n",
    "    with torch.no_grad():\n",
    "        for inputs, labels in testloader:\n",
    "            inputs = inputs.to(device)\n",
    "            labels = labels.to(device)\n",
    "            outputs = model(inputs)\n",
    "            _, predicted = torch.max(outputs.data, 1)\n",
    "            total += labels.size(0)\n",
    "            correct += (predicted == labels).sum().item()\n",
    "\n",
    "    accuracy = (correct / total) * 100\n",
    "    return accuracy\n",
    "\n",
    "def train(model, optimizer, criterion, trainloader, testloader, epochs, device):\n",
    "    train_losses = []\n",
    "    test_losses = []\n",
    "    train_accuracies = []\n",
    "    test_accuracies = []\n",
    "    best_loss = float('inf')\n",
    "\n",
    "    device = 'cuda' if torch.cuda.is_available() else 'cpu'\n",
    "    model.to(torch.device(device))\n",
    "\n",
    "    for epoch in range(epochs):\n",
    "        print(f'EPOCH {epoch+1}/{epochs}:', end=\" \")\n",
    "\n",
    "        model.train()\n",
    "\n",
    "        train_loss = train_one_epoch(model, criterion, optimizer, trainloader)\n",
    "        train_losses.append(train_loss)\n",
    "        print(f\"Train Loss: {train_loss}\")\n",
    "\n",
    "        model.eval()\n",
    "\n",
    "        train_accuracy = evaluate_accuracy(model, trainloader, device)\n",
    "        train_accuracies.append(train_accuracy)\n",
    "        print(f\"Train Accuracy: {train_accuracy:.2f}%\")\n",
    "\n",
    "        test_loss = evaluate_loss(model, criterion, testloader, device)\n",
    "        test_losses.append(test_loss)\n",
    "        print(f\"Test Loss: {test_loss}\")\n",
    "\n",
    "        test_accuracy = evaluate_accuracy(model, testloader, device)\n",
    "        test_accuracies.append(test_accuracy)\n",
    "        print(f\"Test Accuracy: {test_accuracy:.2f}%\")\n",
    "\n",
    "        # Save best model\n",
    "        if test_loss < best_loss:\n",
    "          best_loss = test_loss\n",
    "        #   model_path = 'mlp_model_{}'.format(epoch)\n",
    "        #   torch.save(model.state_dict(), model_path)\n",
    "\n",
    "    return train_losses, test_losses, train_accuracies, test_accuracies\n"
   ]
  },
  {
   "cell_type": "code",
   "execution_count": 78,
   "metadata": {},
   "outputs": [
    {
     "name": "stdout",
     "output_type": "stream",
     "text": [
      "MLPModel(\n",
      "  (linear1): Linear(in_features=37, out_features=128, bias=True)\n",
      "  (linear2): Linear(in_features=128, out_features=128, bias=True)\n",
      "  (linear3): Linear(in_features=128, out_features=2, bias=True)\n",
      "  (relu): ReLU()\n",
      ")\n",
      "EPOCH 1/30: "
     ]
    },
    {
     "name": "stderr",
     "output_type": "stream",
     "text": [
      "  2%|▏         | 1/63 [00:00<00:12,  5.03it/s]"
     ]
    },
    {
     "name": "stderr",
     "output_type": "stream",
     "text": [
      "100%|██████████| 63/63 [00:08<00:00,  7.68it/s]\n"
     ]
    },
    {
     "name": "stdout",
     "output_type": "stream",
     "text": [
      "Train Loss: 0.6474844699814206\n",
      "Train Accuracy: 94.50%\n",
      "Test Loss: 0.6003088150173426\n",
      "Test Accuracy: 95.70%\n",
      "EPOCH 2/30: "
     ]
    },
    {
     "name": "stderr",
     "output_type": "stream",
     "text": [
      "100%|██████████| 63/63 [00:10<00:00,  6.24it/s]\n"
     ]
    },
    {
     "name": "stdout",
     "output_type": "stream",
     "text": [
      "Train Loss: 0.5427701473236084\n",
      "Train Accuracy: 94.60%\n",
      "Test Loss: 0.46975399274379015\n",
      "Test Accuracy: 95.50%\n",
      "EPOCH 3/30: "
     ]
    },
    {
     "name": "stderr",
     "output_type": "stream",
     "text": [
      "100%|██████████| 63/63 [00:08<00:00,  7.66it/s]\n"
     ]
    },
    {
     "name": "stdout",
     "output_type": "stream",
     "text": [
      "Train Loss: 0.3989970078544011\n",
      "Train Accuracy: 94.60%\n",
      "Test Loss: 0.32266715448349714\n",
      "Test Accuracy: 95.50%\n",
      "EPOCH 4/30: "
     ]
    },
    {
     "name": "stderr",
     "output_type": "stream",
     "text": [
      "100%|██████████| 63/63 [00:09<00:00,  6.68it/s]\n"
     ]
    },
    {
     "name": "stdout",
     "output_type": "stream",
     "text": [
      "Train Loss: 0.27479570489081123\n",
      "Train Accuracy: 94.55%\n",
      "Test Loss: 0.22753451205790043\n",
      "Test Accuracy: 95.50%\n",
      "EPOCH 5/30: "
     ]
    },
    {
     "name": "stderr",
     "output_type": "stream",
     "text": [
      "100%|██████████| 63/63 [00:08<00:00,  7.16it/s]\n"
     ]
    },
    {
     "name": "stdout",
     "output_type": "stream",
     "text": [
      "Train Loss: 0.20919169745748006\n",
      "Train Accuracy: 94.70%\n",
      "Test Loss: 0.1808813693933189\n",
      "Test Accuracy: 95.60%\n",
      "EPOCH 6/30: "
     ]
    },
    {
     "name": "stderr",
     "output_type": "stream",
     "text": [
      "100%|██████████| 63/63 [00:08<00:00,  7.63it/s]\n"
     ]
    },
    {
     "name": "stdout",
     "output_type": "stream",
     "text": [
      "Train Loss: 0.1858737085546766\n",
      "Train Accuracy: 94.65%\n",
      "Test Loss: 0.16637358732987195\n",
      "Test Accuracy: 95.60%\n",
      "EPOCH 7/30: "
     ]
    },
    {
     "name": "stderr",
     "output_type": "stream",
     "text": [
      "100%|██████████| 63/63 [00:11<00:00,  5.66it/s]\n"
     ]
    },
    {
     "name": "stdout",
     "output_type": "stream",
     "text": [
      "Train Loss: 0.17794728740340188\n",
      "Train Accuracy: 94.80%\n",
      "Test Loss: 0.16685817507095635\n",
      "Test Accuracy: 95.60%\n",
      "EPOCH 8/30: "
     ]
    },
    {
     "name": "stderr",
     "output_type": "stream",
     "text": [
      "100%|██████████| 63/63 [00:08<00:00,  7.32it/s]\n"
     ]
    },
    {
     "name": "stdout",
     "output_type": "stream",
     "text": [
      "Train Loss: 0.1732572079414413\n",
      "Train Accuracy: 94.70%\n",
      "Test Loss: 0.1565153810661286\n",
      "Test Accuracy: 95.60%\n",
      "EPOCH 9/30: "
     ]
    },
    {
     "name": "stderr",
     "output_type": "stream",
     "text": [
      "100%|██████████| 63/63 [00:08<00:00,  7.11it/s]\n"
     ]
    },
    {
     "name": "stdout",
     "output_type": "stream",
     "text": [
      "Train Loss: 0.16991516906354162\n",
      "Train Accuracy: 94.95%\n",
      "Test Loss: 0.15554698510095477\n",
      "Test Accuracy: 95.60%\n",
      "EPOCH 10/30: "
     ]
    },
    {
     "name": "stderr",
     "output_type": "stream",
     "text": [
      "100%|██████████| 63/63 [00:07<00:00,  8.24it/s]\n"
     ]
    },
    {
     "name": "stdout",
     "output_type": "stream",
     "text": [
      "Train Loss: 0.16890853513327855\n",
      "Train Accuracy: 94.85%\n",
      "Test Loss: 0.15500686806626618\n",
      "Test Accuracy: 95.70%\n",
      "EPOCH 11/30: "
     ]
    },
    {
     "name": "stderr",
     "output_type": "stream",
     "text": [
      "100%|██████████| 63/63 [00:06<00:00,  9.09it/s]\n"
     ]
    },
    {
     "name": "stdout",
     "output_type": "stream",
     "text": [
      "Train Loss: 0.16657075090777307\n",
      "Train Accuracy: 94.90%\n",
      "Test Loss: 0.1527985093416646\n",
      "Test Accuracy: 95.70%\n",
      "EPOCH 12/30: "
     ]
    },
    {
     "name": "stderr",
     "output_type": "stream",
     "text": [
      "100%|██████████| 63/63 [00:09<00:00,  6.54it/s]\n"
     ]
    },
    {
     "name": "stdout",
     "output_type": "stream",
     "text": [
      "Train Loss: 0.16726126965312732\n",
      "Train Accuracy: 94.95%\n",
      "Test Loss: 0.15655576228164136\n",
      "Test Accuracy: 95.70%\n",
      "EPOCH 13/30: "
     ]
    },
    {
     "name": "stderr",
     "output_type": "stream",
     "text": [
      "100%|██████████| 63/63 [00:10<00:00,  5.99it/s]\n"
     ]
    },
    {
     "name": "stdout",
     "output_type": "stream",
     "text": [
      "Train Loss: 0.1661976720428183\n",
      "Train Accuracy: 94.90%\n",
      "Test Loss: 0.15917839820031077\n",
      "Test Accuracy: 95.70%\n",
      "EPOCH 14/30: "
     ]
    },
    {
     "name": "stderr",
     "output_type": "stream",
     "text": [
      "100%|██████████| 63/63 [00:07<00:00,  8.56it/s]\n"
     ]
    },
    {
     "name": "stdout",
     "output_type": "stream",
     "text": [
      "Train Loss: 0.1653407680846396\n",
      "Train Accuracy: 94.70%\n",
      "Test Loss: 0.15184996119933203\n",
      "Test Accuracy: 95.90%\n",
      "EPOCH 15/30: "
     ]
    },
    {
     "name": "stderr",
     "output_type": "stream",
     "text": [
      "100%|██████████| 63/63 [00:09<00:00,  6.51it/s]\n"
     ]
    },
    {
     "name": "stdout",
     "output_type": "stream",
     "text": [
      "Train Loss: 0.1643276768071311\n",
      "Train Accuracy: 94.80%\n",
      "Test Loss: 0.14978377986699343\n",
      "Test Accuracy: 96.00%\n",
      "EPOCH 16/30: "
     ]
    },
    {
     "name": "stderr",
     "output_type": "stream",
     "text": [
      "100%|██████████| 63/63 [00:11<00:00,  5.65it/s]\n"
     ]
    },
    {
     "name": "stdout",
     "output_type": "stream",
     "text": [
      "Train Loss: 0.16703203675292788\n",
      "Train Accuracy: 95.00%\n",
      "Test Loss: 0.14775065111462027\n",
      "Test Accuracy: 95.90%\n",
      "EPOCH 17/30: "
     ]
    },
    {
     "name": "stderr",
     "output_type": "stream",
     "text": [
      "100%|██████████| 63/63 [00:11<00:00,  5.28it/s]\n"
     ]
    },
    {
     "name": "stdout",
     "output_type": "stream",
     "text": [
      "Train Loss: 0.16208598277871572\n",
      "Train Accuracy: 94.95%\n",
      "Test Loss: 0.1540168570354581\n",
      "Test Accuracy: 95.70%\n",
      "EPOCH 18/30: "
     ]
    },
    {
     "name": "stderr",
     "output_type": "stream",
     "text": [
      "100%|██████████| 63/63 [00:12<00:00,  5.06it/s]\n"
     ]
    },
    {
     "name": "stdout",
     "output_type": "stream",
     "text": [
      "Train Loss: 0.16047624531128105\n",
      "Train Accuracy: 94.85%\n",
      "Test Loss: 0.1481520754750818\n",
      "Test Accuracy: 95.90%\n",
      "EPOCH 19/30: "
     ]
    },
    {
     "name": "stderr",
     "output_type": "stream",
     "text": [
      "100%|██████████| 63/63 [00:11<00:00,  5.58it/s]\n"
     ]
    },
    {
     "name": "stdout",
     "output_type": "stream",
     "text": [
      "Train Loss: 0.16222683358050527\n",
      "Train Accuracy: 95.00%\n",
      "Test Loss: 0.14714106125757098\n",
      "Test Accuracy: 96.00%\n",
      "EPOCH 20/30: "
     ]
    },
    {
     "name": "stderr",
     "output_type": "stream",
     "text": [
      "100%|██████████| 63/63 [00:12<00:00,  4.94it/s]\n"
     ]
    },
    {
     "name": "stdout",
     "output_type": "stream",
     "text": [
      "Train Loss: 0.16058354747910347\n",
      "Train Accuracy: 94.95%\n",
      "Test Loss: 0.14664059248752892\n",
      "Test Accuracy: 95.80%\n",
      "EPOCH 21/30: "
     ]
    },
    {
     "name": "stderr",
     "output_type": "stream",
     "text": [
      "100%|██████████| 63/63 [00:10<00:00,  6.13it/s]\n"
     ]
    },
    {
     "name": "stdout",
     "output_type": "stream",
     "text": [
      "Train Loss: 0.15881279669702053\n",
      "Train Accuracy: 94.95%\n",
      "Test Loss: 0.14612862648209557\n",
      "Test Accuracy: 95.60%\n",
      "EPOCH 22/30: "
     ]
    },
    {
     "name": "stderr",
     "output_type": "stream",
     "text": [
      "100%|██████████| 63/63 [00:10<00:00,  5.74it/s]\n"
     ]
    },
    {
     "name": "stdout",
     "output_type": "stream",
     "text": [
      "Train Loss: 0.1620200089814644\n",
      "Train Accuracy: 94.95%\n",
      "Test Loss: 0.14628128078766167\n",
      "Test Accuracy: 95.70%\n",
      "EPOCH 23/30: "
     ]
    },
    {
     "name": "stderr",
     "output_type": "stream",
     "text": [
      "100%|██████████| 63/63 [00:10<00:00,  6.27it/s]\n"
     ]
    },
    {
     "name": "stdout",
     "output_type": "stream",
     "text": [
      "Train Loss: 0.159304604082117\n",
      "Train Accuracy: 94.95%\n",
      "Test Loss: 0.14508877380285412\n",
      "Test Accuracy: 95.90%\n",
      "EPOCH 24/30: "
     ]
    },
    {
     "name": "stderr",
     "output_type": "stream",
     "text": [
      "100%|██████████| 63/63 [00:10<00:00,  5.74it/s]\n"
     ]
    },
    {
     "name": "stdout",
     "output_type": "stream",
     "text": [
      "Train Loss: 0.16066726699234948\n",
      "Train Accuracy: 94.95%\n",
      "Test Loss: 0.14491677237674594\n",
      "Test Accuracy: 96.00%\n",
      "EPOCH 25/30: "
     ]
    },
    {
     "name": "stderr",
     "output_type": "stream",
     "text": [
      "100%|██████████| 63/63 [00:11<00:00,  5.68it/s]\n"
     ]
    },
    {
     "name": "stdout",
     "output_type": "stream",
     "text": [
      "Train Loss: 0.15805318650035632\n",
      "Train Accuracy: 95.00%\n",
      "Test Loss: 0.14498824020847678\n",
      "Test Accuracy: 95.90%\n",
      "EPOCH 26/30: "
     ]
    },
    {
     "name": "stderr",
     "output_type": "stream",
     "text": [
      "100%|██████████| 63/63 [00:10<00:00,  5.87it/s]\n"
     ]
    },
    {
     "name": "stdout",
     "output_type": "stream",
     "text": [
      "Train Loss: 0.15692591052206736\n",
      "Train Accuracy: 95.00%\n",
      "Test Loss: 0.1437956669833511\n",
      "Test Accuracy: 95.80%\n",
      "EPOCH 27/30: "
     ]
    },
    {
     "name": "stderr",
     "output_type": "stream",
     "text": [
      "100%|██████████| 63/63 [00:09<00:00,  6.60it/s]\n"
     ]
    },
    {
     "name": "stdout",
     "output_type": "stream",
     "text": [
      "Train Loss: 0.15924561650507033\n",
      "Train Accuracy: 94.95%\n",
      "Test Loss: 0.14374620688613504\n",
      "Test Accuracy: 95.80%\n",
      "EPOCH 28/30: "
     ]
    },
    {
     "name": "stderr",
     "output_type": "stream",
     "text": [
      "100%|██████████| 63/63 [00:10<00:00,  6.16it/s]\n"
     ]
    },
    {
     "name": "stdout",
     "output_type": "stream",
     "text": [
      "Train Loss: 0.15546133357381064\n",
      "Train Accuracy: 94.95%\n",
      "Test Loss: 0.14454245765227824\n",
      "Test Accuracy: 95.90%\n",
      "EPOCH 29/30: "
     ]
    },
    {
     "name": "stderr",
     "output_type": "stream",
     "text": [
      "100%|██████████| 63/63 [00:09<00:00,  6.68it/s]\n"
     ]
    },
    {
     "name": "stdout",
     "output_type": "stream",
     "text": [
      "Train Loss: 0.15614150142267583\n",
      "Train Accuracy: 94.95%\n",
      "Test Loss: 0.14344875840470195\n",
      "Test Accuracy: 95.80%\n",
      "EPOCH 30/30: "
     ]
    },
    {
     "name": "stderr",
     "output_type": "stream",
     "text": [
      "100%|██████████| 63/63 [00:08<00:00,  7.08it/s]\n"
     ]
    },
    {
     "name": "stdout",
     "output_type": "stream",
     "text": [
      "Train Loss: 0.15561872658630213\n",
      "Train Accuracy: 94.95%\n",
      "Test Loss: 0.14577000041026622\n",
      "Test Accuracy: 95.90%\n"
     ]
    }
   ],
   "source": [
    "# Training MLP Model\n",
    "mlp_model = MLPModel(input_size, num_classes)\n",
    "\n",
    "# Print the model architecture\n",
    "print(mlp_model)\n",
    "\n",
    "# Define optimizers for the models\n",
    "optimizer = torch.optim.Adam(mlp_model.parameters(), lr=learning_rate)\n",
    "\n",
    "# def lr_lambda(epoch):\n",
    "#     return 0.9 ** (epoch // 10)\n",
    "# scheduler = torch.optim.lr_scheduler.LambdaLR(optimizer, lr_lambda)\n",
    "\n",
    "criterion = torch.nn. CrossEntropyLoss()\n",
    "# Train the MLP model\n",
    "train_losses, test_losses, train_accuracies, test_accuracies = train(mlp_model, optimizer, criterion, train_loader, test_loader, epochs, device)\n",
    "torch.save(mlp_model.state_dict(), 'mlp_model_final_weights.pth')\n",
    "torch.save((train_losses, test_losses), 'mlp_model_final_losses.pt')"
   ]
  },
  {
   "cell_type": "code",
   "execution_count": 79,
   "metadata": {},
   "outputs": [
    {
     "data": {
      "image/png": "[encoded data removed]",
      "text/plain": [
       "<Figure size 600x400 with 1 Axes>"
      ]
     },
     "metadata": {},
     "output_type": "display_data"
    }
   ],
   "source": [
    "# Evaluating MLP Model\n",
    "## Plot loss graph\n",
    "plt.figure(figsize=(6, 4))\n",
    "plt.plot(train_losses, label=\"Train\")\n",
    "plt.plot(test_losses, label=\"Test\")\n",
    "plt.xlabel(\"Epoch\")\n",
    "plt.ylabel(\"Loss\")\n",
    "plt.title(f\"MLP Model - Train and Test Losses\")\n",
    "plt.legend()\n",
    "plt.tight_layout()\n",
    "plt.grid()\n",
    "plt.show()\n",
    "\n"
   ]
  },
  {
   "cell_type": "code",
   "execution_count": 80,
   "metadata": {},
   "outputs": [
    {
     "data": {
      "image/png": "[encoded data removed]",
      "text/plain": [
       "<Figure size 600x400 with 1 Axes>"
      ]
     },
     "metadata": {},
     "output_type": "display_data"
    }
   ],
   "source": [
    "## Plot accuracy graph\n",
    "plt.figure(figsize=(6, 4))\n",
    "plt.plot(train_accuracies, label=\"Train\")\n",
    "plt.plot(test_accuracies, label=\"Test\")\n",
    "plt.xlabel(\"Epoch\")\n",
    "plt.ylabel(\"Accuracy\")\n",
    "plt.title(f\"MLP Model - Train and Test Accuracies\")\n",
    "plt.legend()\n",
    "plt.tight_layout()\n",
    "plt.grid()\n",
    "plt.show()"
   ]
  }
 ],
 "metadata": {
  "kernelspec": {
   "display_name": "braket",
   "language": "python",
   "name": "python3"
  },
  "language_info": {
   "codemirror_mode": {
    "name": "ipython",
    "version": 3
   },
   "file_extension": ".py",
   "mimetype": "text/x-python",
   "name": "python",
   "nbconvert_exporter": "python",
   "pygments_lexer": "ipython3",
   "version": "3.9.20"
  }
 },
 "nbformat": 4,
 "nbformat_minor": 2
}
