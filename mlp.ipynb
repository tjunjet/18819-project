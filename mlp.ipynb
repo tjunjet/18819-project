{
 "cells": [
  {
   "cell_type": "markdown",
   "metadata": {},
   "source": [
    "# Data Loading"
   ]
  },
  {
   "cell_type": "markdown",
   "metadata": {},
   "source": [
    "### Loading the Exoplanet training data\n",
    "\n",
    "The exoplanet training data has already been separated into X_train, X_test, y_train, y_test. \n",
    "\n",
    "We will use it for the training\n"
   ]
  },
  {
   "cell_type": "code",
   "execution_count": 4,
   "metadata": {},
   "outputs": [],
   "source": [
    "import numpy as np\n",
    "import matplotlib.pyplot as plt\n",
    "import pandas as pd"
   ]
  },
  {
   "cell_type": "code",
   "execution_count": 5,
   "metadata": {},
   "outputs": [
    {
     "name": "stdout",
     "output_type": "stream",
     "text": [
      "X_train shape: (2000, 37)\n",
      "X_test shape: (2000, 37)\n",
      "Y_train shape: (2000,)\n",
      "Y_test shape: (2000,)\n"
     ]
    }
   ],
   "source": [
    "X_train = np.loadtxt('middle_data/X_train.txt', delimiter=' ')\n",
    "X_test  = np.loadtxt('middle_data/X_test.txt', delimiter=' ')\n",
    "\n",
    "Y_train = np.loadtxt('middle_data/Y_train.txt', delimiter=' ')\n",
    "Y_test  = np.loadtxt('middle_data/Y_test.txt', delimiter=' ')\n",
    "\n",
    "print(f\"X_train shape: {X_train.shape}\")\n",
    "print(f\"X_test shape: {X_test.shape}\")\n",
    "print(f\"Y_train shape: {Y_train.shape}\")\n",
    "print(f\"Y_test shape: {Y_test.shape}\")"
   ]
  },
  {
   "cell_type": "code",
   "execution_count": 6,
   "metadata": {},
   "outputs": [
    {
     "name": "stdout",
     "output_type": "stream",
     "text": [
      "<class 'numpy.ndarray'>\n"
     ]
    }
   ],
   "source": [
    "print(type(X_train))"
   ]
  },
  {
   "cell_type": "markdown",
   "metadata": {},
   "source": [
    "### 1. Data pre-processing \n",
    "\n",
    "In this step, we will perform normalization of the X dataset, and label y in binary terms"
   ]
  },
  {
   "cell_type": "code",
   "execution_count": 8,
   "metadata": {},
   "outputs": [
    {
     "name": "stdout",
     "output_type": "stream",
     "text": [
      "X_train shape after selection: (2000, 2)\n",
      "X_test shape after selection: (2000, 2)\n"
     ]
    }
   ],
   "source": [
    "from sklearn.decomposition import PCA\n",
    "from sklearn.preprocessing import MinMaxScaler\n",
    "\n",
    "# Dimensionality reduction\n",
    "pca = PCA(n_components=2)\n",
    "X_train = pca.fit_transform(X_train)\n",
    "X_test = pca.transform(X_test)\n",
    "\n",
    "# Normalize data to the range [-1, 1] (use the training set to fit the scaler)\n",
    "scaler = MinMaxScaler(feature_range=(-1, 1))\n",
    "X_train = scaler.fit_transform(X_train)\n",
    "X_test = scaler.transform(X_test)\n",
    "\n",
    "# Ensure labels are binary (if not already binary)\n",
    "Y_train = (Y_train > np.median(Y_train)).astype(int)\n",
    "Y_test = (Y_test > np.median(Y_test)).astype(int)\n",
    "\n",
    "print(f\"X_train shape after selection: {X_train.shape}\")\n",
    "print(f\"X_test shape after selection: {X_test.shape}\")"
   ]
  },
  {
   "cell_type": "code",
   "execution_count": 16,
   "metadata": {},
   "outputs": [
    {
     "data": {
      "text/plain": [
       "(2000,)"
      ]
     },
     "execution_count": 16,
     "metadata": {},
     "output_type": "execute_result"
    }
   ],
   "source": [
    "Y_train.shape"
   ]
  },
  {
   "cell_type": "markdown",
   "metadata": {},
   "source": [
    "# Building MLP model"
   ]
  },
  {
   "cell_type": "code",
   "execution_count": 10,
   "metadata": {},
   "outputs": [],
   "source": [
    "import matplotlib.pyplot as plt\n",
    "import numpy as np\n",
    "import torch\n",
    "import torch.nn as nn\n",
    "import torchvision\n",
    "from torchvision import transforms\n",
    "from torch.utils.data import DataLoader\n",
    "from tqdm import tqdm"
   ]
  },
  {
   "cell_type": "code",
   "execution_count": 36,
   "metadata": {},
   "outputs": [],
   "source": [
    "device = 'cuda' if torch.cuda.is_available() else 'cpu'\n",
    "# Hyperparameters\n",
    "batch_size = 32\n",
    "learning_rate = 0.01\n",
    "epochs = 30\n",
    "num_classes = 2\n",
    "input_size = 2"
   ]
  },
  {
   "cell_type": "code",
   "execution_count": 28,
   "metadata": {},
   "outputs": [],
   "source": [
    "# Building dataset \n",
    "X_train_tensor = torch.tensor(X_train, dtype=torch.float32)\n",
    "Y_train_tensor = torch.tensor(Y_train, dtype=torch.long)  \n",
    "train_dataset = torch.utils.data.TensorDataset(X_train_tensor, Y_train_tensor)\n",
    "train_loader = DataLoader(train_dataset, batch_size=batch_size, shuffle=True)\n",
    "\n",
    "X_test_tensor = torch.tensor(X_test, dtype=torch.float32)\n",
    "Y_test_tensor = torch.tensor(Y_test, dtype=torch.long)  \n",
    "test_dataset = torch.utils.data.TensorDataset(X_test_tensor, Y_test_tensor)\n",
    "test_loader = DataLoader(test_dataset, batch_size=batch_size, shuffle=True)\n",
    "\n"
   ]
  },
  {
   "cell_type": "code",
   "execution_count": 25,
   "metadata": {},
   "outputs": [],
   "source": [
    "# Creating MLP Model\n",
    "class MLPModel(nn.Module):\n",
    "    def __init__(self, input_size, num_classes):\n",
    "        super(MLPModel, self).__init__()\n",
    "        self.linear1 = nn.Linear(input_size, 512)\n",
    "        self.linear2 = nn.Linear(512, 512)\n",
    "        self.linear3 = nn.Linear(512, num_classes)\n",
    "        self.relu = nn.ReLU()\n",
    "\n",
    "    def forward(self, x: torch.Tensor) -> torch.Tensor:\n",
    "        x = self.linear1(x)\n",
    "        x = self.relu(x)\n",
    "        x = self.linear2(x)\n",
    "        x = self.relu(x)\n",
    "        x = self.linear3(x)\n",
    "        return x\n"
   ]
  },
  {
   "cell_type": "code",
   "execution_count": 37,
   "metadata": {},
   "outputs": [],
   "source": [
    "# Creating Training Loop\n",
    "# Referenced from: https://pytorch.org/tutorials/beginner/introyt/trainingyt.html\n",
    "def train_one_epoch(model, criterion, optimizer, trainloader):\n",
    "    running_loss = 0.0\n",
    "\n",
    "    for inputs, labels in tqdm(trainloader):\n",
    "        optimizer.zero_grad()\n",
    "        inputs = inputs.to(device)\n",
    "        labels = labels.to(device)\n",
    "        outputs = model(inputs)\n",
    "        loss = criterion(outputs, labels)\n",
    "        loss.backward()\n",
    "        optimizer.step()\n",
    "        running_loss += loss.item()\n",
    "    train_loss = running_loss / len(trainloader)\n",
    "    return train_loss\n",
    "\n",
    "def evaluate_loss(model, criterion, testloader, device):\n",
    "    test_loss = 0.0\n",
    "    with torch.no_grad():\n",
    "        for inputs, labels in testloader:\n",
    "            inputs = inputs.to(device)\n",
    "            labels = labels.to(device)\n",
    "            outputs = model(inputs)\n",
    "            loss = criterion(outputs, labels)\n",
    "            test_loss += loss.item()\n",
    "    avg_loss = test_loss / len(testloader)\n",
    "    return avg_loss\n",
    "\n",
    "def evaluate_accuracy(model, testloader, device):\n",
    "    correct = 0\n",
    "    total = 0\n",
    "\n",
    "    with torch.no_grad():\n",
    "        for inputs, labels in testloader:\n",
    "            inputs = inputs.to(device)\n",
    "            labels = labels.to(device)\n",
    "            outputs = model(inputs)\n",
    "            _, predicted = torch.max(outputs.data, 1)\n",
    "            total += labels.size(0)\n",
    "            correct += (predicted == labels).sum().item()\n",
    "\n",
    "    accuracy = (correct / total) * 100\n",
    "    return accuracy\n",
    "\n",
    "def train(model, optimizer, criterion, trainloader, testloader, epochs, device):\n",
    "    train_losses = []\n",
    "    test_losses = []\n",
    "    train_accuracies = []\n",
    "    test_accuracies = []\n",
    "    best_loss = float('inf')\n",
    "\n",
    "    device = 'cuda' if torch.cuda.is_available() else 'cpu'\n",
    "    model.to(torch.device(device))\n",
    "\n",
    "    for epoch in range(epochs):\n",
    "        print(f'EPOCH {epoch+1}/{epochs}:', end=\" \")\n",
    "\n",
    "        model.train()\n",
    "\n",
    "        train_loss = train_one_epoch(model, criterion, optimizer, trainloader)\n",
    "        train_losses.append(train_loss)\n",
    "        print(f\"Train Loss: {train_loss}\")\n",
    "\n",
    "        model.eval()\n",
    "\n",
    "        train_accuracy = evaluate_accuracy(model, trainloader, device)\n",
    "        train_accuracies.append(train_accuracy)\n",
    "        print(f\"Train Accuracy: {train_accuracy:.2f}%\")\n",
    "\n",
    "        test_loss = evaluate_loss(model, criterion, testloader, device)\n",
    "        test_losses.append(test_loss)\n",
    "        print(f\"Test Loss: {test_loss}\")\n",
    "\n",
    "        test_accuracy = evaluate_accuracy(model, testloader, device)\n",
    "        test_accuracies.append(test_accuracy)\n",
    "        print(f\"Test Accuracy: {test_accuracy:.2f}%\")\n",
    "\n",
    "        # Save best model\n",
    "        if test_loss < best_loss:\n",
    "          best_loss = test_loss\n",
    "          model_path = 'mlp_model_{}'.format(epoch)\n",
    "          torch.save(model.state_dict(), model_path)\n",
    "\n",
    "    return train_losses, test_losses, train_accuracies, test_accuracies\n"
   ]
  },
  {
   "cell_type": "code",
   "execution_count": 38,
   "metadata": {},
   "outputs": [
    {
     "name": "stdout",
     "output_type": "stream",
     "text": [
      "MLPModel(\n",
      "  (linear1): Linear(in_features=2, out_features=512, bias=True)\n",
      "  (linear2): Linear(in_features=512, out_features=512, bias=True)\n",
      "  (linear3): Linear(in_features=512, out_features=2, bias=True)\n",
      "  (relu): ReLU()\n",
      ")\n",
      "EPOCH 1/30: "
     ]
    },
    {
     "name": "stderr",
     "output_type": "stream",
     "text": [
      "  0%|          | 0/63 [00:00<?, ?it/s]"
     ]
    },
    {
     "name": "stderr",
     "output_type": "stream",
     "text": [
      "100%|██████████| 63/63 [00:14<00:00,  4.32it/s]\n"
     ]
    },
    {
     "name": "stdout",
     "output_type": "stream",
     "text": [
      "Train Loss: 0.6892663968933953\n",
      "Train Accuracy: 50.00%\n",
      "Test Loss: 0.683120019852169\n",
      "Test Accuracy: 49.90%\n",
      "EPOCH 2/30: "
     ]
    },
    {
     "name": "stderr",
     "output_type": "stream",
     "text": [
      "100%|██████████| 63/63 [00:16<00:00,  3.76it/s]\n"
     ]
    },
    {
     "name": "stdout",
     "output_type": "stream",
     "text": [
      "Train Loss: 0.6770820939351642\n",
      "Train Accuracy: 65.80%\n",
      "Test Loss: 0.6727248070731996\n",
      "Test Accuracy: 65.15%\n",
      "EPOCH 3/30: "
     ]
    },
    {
     "name": "stderr",
     "output_type": "stream",
     "text": [
      "100%|██████████| 63/63 [00:17<00:00,  3.61it/s]\n"
     ]
    },
    {
     "name": "stdout",
     "output_type": "stream",
     "text": [
      "Train Loss: 0.6672311737423852\n",
      "Train Accuracy: 49.75%\n",
      "Test Loss: 0.6678901380962796\n",
      "Test Accuracy: 49.85%\n",
      "EPOCH 4/30: "
     ]
    },
    {
     "name": "stderr",
     "output_type": "stream",
     "text": [
      "100%|██████████| 63/63 [00:15<00:00,  4.02it/s]\n"
     ]
    },
    {
     "name": "stdout",
     "output_type": "stream",
     "text": [
      "Train Loss: 0.6574553241805424\n",
      "Train Accuracy: 65.05%\n",
      "Test Loss: 0.6577268744271899\n",
      "Test Accuracy: 64.10%\n",
      "EPOCH 5/30: "
     ]
    },
    {
     "name": "stderr",
     "output_type": "stream",
     "text": [
      "100%|██████████| 63/63 [00:18<00:00,  3.39it/s]\n"
     ]
    },
    {
     "name": "stdout",
     "output_type": "stream",
     "text": [
      "Train Loss: 0.6515284464472816\n",
      "Train Accuracy: 62.80%\n",
      "Test Loss: 0.6524526987757001\n",
      "Test Accuracy: 61.15%\n",
      "EPOCH 6/30: "
     ]
    },
    {
     "name": "stderr",
     "output_type": "stream",
     "text": [
      "100%|██████████| 63/63 [00:15<00:00,  3.97it/s]\n"
     ]
    },
    {
     "name": "stdout",
     "output_type": "stream",
     "text": [
      "Train Loss: 0.643638981713189\n",
      "Train Accuracy: 65.75%\n",
      "Test Loss: 0.647521902644445\n",
      "Test Accuracy: 65.15%\n",
      "EPOCH 7/30: "
     ]
    },
    {
     "name": "stderr",
     "output_type": "stream",
     "text": [
      "100%|██████████| 63/63 [00:17<00:00,  3.52it/s]\n"
     ]
    },
    {
     "name": "stdout",
     "output_type": "stream",
     "text": [
      "Train Loss: 0.6398864369543772\n",
      "Train Accuracy: 65.20%\n",
      "Test Loss: 0.642773293313526\n",
      "Test Accuracy: 64.25%\n",
      "EPOCH 8/30: "
     ]
    },
    {
     "name": "stderr",
     "output_type": "stream",
     "text": [
      "100%|██████████| 63/63 [00:19<00:00,  3.16it/s]\n"
     ]
    },
    {
     "name": "stdout",
     "output_type": "stream",
     "text": [
      "Train Loss: 0.6372233430544535\n",
      "Train Accuracy: 63.50%\n",
      "Test Loss: 0.6396290063858032\n",
      "Test Accuracy: 62.20%\n",
      "EPOCH 9/30: "
     ]
    },
    {
     "name": "stderr",
     "output_type": "stream",
     "text": [
      "100%|██████████| 63/63 [00:20<00:00,  3.15it/s]\n"
     ]
    },
    {
     "name": "stdout",
     "output_type": "stream",
     "text": [
      "Train Loss: 0.6340736216968961\n",
      "Train Accuracy: 49.70%\n",
      "Test Loss: 0.644984349371895\n",
      "Test Accuracy: 49.60%\n",
      "EPOCH 10/30: "
     ]
    },
    {
     "name": "stderr",
     "output_type": "stream",
     "text": [
      "100%|██████████| 63/63 [00:22<00:00,  2.75it/s]\n"
     ]
    },
    {
     "name": "stdout",
     "output_type": "stream",
     "text": [
      "Train Loss: 0.6286553494513981\n",
      "Train Accuracy: 64.05%\n",
      "Test Loss: 0.6337080039675274\n",
      "Test Accuracy: 62.65%\n",
      "EPOCH 11/30: "
     ]
    },
    {
     "name": "stderr",
     "output_type": "stream",
     "text": [
      "100%|██████████| 63/63 [00:17<00:00,  3.58it/s]\n"
     ]
    },
    {
     "name": "stdout",
     "output_type": "stream",
     "text": [
      "Train Loss: 0.6282068897807409\n",
      "Train Accuracy: 65.70%\n",
      "Test Loss: 0.6308859908391559\n",
      "Test Accuracy: 64.65%\n",
      "EPOCH 12/30: "
     ]
    },
    {
     "name": "stderr",
     "output_type": "stream",
     "text": [
      "100%|██████████| 63/63 [00:19<00:00,  3.25it/s]\n"
     ]
    },
    {
     "name": "stdout",
     "output_type": "stream",
     "text": [
      "Train Loss: 0.6238498016009255\n",
      "Train Accuracy: 61.25%\n",
      "Test Loss: 0.6615918297616262\n",
      "Test Accuracy: 59.90%\n",
      "EPOCH 13/30: "
     ]
    },
    {
     "name": "stderr",
     "output_type": "stream",
     "text": [
      "100%|██████████| 63/63 [00:17<00:00,  3.55it/s]\n"
     ]
    },
    {
     "name": "stdout",
     "output_type": "stream",
     "text": [
      "Train Loss: 0.6242056659289769\n",
      "Train Accuracy: 49.60%\n",
      "Test Loss: 0.6365559072721572\n",
      "Test Accuracy: 49.50%\n",
      "EPOCH 14/30: "
     ]
    },
    {
     "name": "stderr",
     "output_type": "stream",
     "text": [
      "100%|██████████| 63/63 [00:16<00:00,  3.79it/s]\n"
     ]
    },
    {
     "name": "stdout",
     "output_type": "stream",
     "text": [
      "Train Loss: 0.6218891503318907\n",
      "Train Accuracy: 64.60%\n",
      "Test Loss: 0.6245137121942308\n",
      "Test Accuracy: 63.60%\n",
      "EPOCH 15/30: "
     ]
    },
    {
     "name": "stderr",
     "output_type": "stream",
     "text": [
      "100%|██████████| 63/63 [00:18<00:00,  3.48it/s]\n"
     ]
    },
    {
     "name": "stdout",
     "output_type": "stream",
     "text": [
      "Train Loss: 0.6176655406043643\n",
      "Train Accuracy: 65.90%\n",
      "Test Loss: 0.6241905547323681\n",
      "Test Accuracy: 65.15%\n",
      "EPOCH 16/30: "
     ]
    },
    {
     "name": "stderr",
     "output_type": "stream",
     "text": [
      "100%|██████████| 63/63 [00:18<00:00,  3.48it/s]\n"
     ]
    },
    {
     "name": "stdout",
     "output_type": "stream",
     "text": [
      "Train Loss: 0.6164670491975451\n",
      "Train Accuracy: 63.85%\n",
      "Test Loss: 0.6253948372507853\n",
      "Test Accuracy: 62.65%\n",
      "EPOCH 17/30: "
     ]
    },
    {
     "name": "stderr",
     "output_type": "stream",
     "text": [
      "100%|██████████| 63/63 [00:19<00:00,  3.23it/s]\n"
     ]
    },
    {
     "name": "stdout",
     "output_type": "stream",
     "text": [
      "Train Loss: 0.6136144711857751\n",
      "Train Accuracy: 49.60%\n",
      "Test Loss: 0.6317189610193646\n",
      "Test Accuracy: 49.55%\n",
      "EPOCH 18/30: "
     ]
    },
    {
     "name": "stderr",
     "output_type": "stream",
     "text": [
      "100%|██████████| 63/63 [00:19<00:00,  3.20it/s]\n"
     ]
    },
    {
     "name": "stdout",
     "output_type": "stream",
     "text": [
      "Train Loss: 0.6179773921058291\n",
      "Train Accuracy: 65.65%\n",
      "Test Loss: 0.6186369014164758\n",
      "Test Accuracy: 64.65%\n",
      "EPOCH 19/30: "
     ]
    },
    {
     "name": "stderr",
     "output_type": "stream",
     "text": [
      "100%|██████████| 63/63 [00:20<00:00,  3.06it/s]\n"
     ]
    },
    {
     "name": "stdout",
     "output_type": "stream",
     "text": [
      "Train Loss: 0.6114402517439828\n",
      "Train Accuracy: 66.00%\n",
      "Test Loss: 0.6186287299035087\n",
      "Test Accuracy: 65.70%\n",
      "EPOCH 20/30: "
     ]
    },
    {
     "name": "stderr",
     "output_type": "stream",
     "text": [
      "100%|██████████| 63/63 [00:18<00:00,  3.44it/s]\n"
     ]
    },
    {
     "name": "stdout",
     "output_type": "stream",
     "text": [
      "Train Loss: 0.6108434545615363\n",
      "Train Accuracy: 65.75%\n",
      "Test Loss: 0.6167308470559498\n",
      "Test Accuracy: 65.15%\n",
      "EPOCH 21/30: "
     ]
    },
    {
     "name": "stderr",
     "output_type": "stream",
     "text": [
      "100%|██████████| 63/63 [00:23<00:00,  2.71it/s]\n"
     ]
    },
    {
     "name": "stdout",
     "output_type": "stream",
     "text": [
      "Train Loss: 0.6134894178027198\n",
      "Train Accuracy: 48.25%\n",
      "Test Loss: 0.6229594614770677\n",
      "Test Accuracy: 48.45%\n",
      "EPOCH 22/30: "
     ]
    },
    {
     "name": "stderr",
     "output_type": "stream",
     "text": [
      "100%|██████████| 63/63 [00:27<00:00,  2.33it/s]\n"
     ]
    },
    {
     "name": "stdout",
     "output_type": "stream",
     "text": [
      "Train Loss: 0.6119558271907625\n",
      "Train Accuracy: 63.55%\n",
      "Test Loss: 0.6294203542527699\n",
      "Test Accuracy: 62.30%\n",
      "EPOCH 23/30: "
     ]
    },
    {
     "name": "stderr",
     "output_type": "stream",
     "text": [
      "100%|██████████| 63/63 [00:22<00:00,  2.74it/s]\n"
     ]
    },
    {
     "name": "stdout",
     "output_type": "stream",
     "text": [
      "Train Loss: 0.6093806643334646\n",
      "Train Accuracy: 63.05%\n",
      "Test Loss: 0.6441516743765937\n",
      "Test Accuracy: 61.50%\n",
      "EPOCH 24/30: "
     ]
    },
    {
     "name": "stderr",
     "output_type": "stream",
     "text": [
      "100%|██████████| 63/63 [00:22<00:00,  2.83it/s]\n"
     ]
    },
    {
     "name": "stdout",
     "output_type": "stream",
     "text": [
      "Train Loss: 0.6117105332631914\n",
      "Train Accuracy: 65.90%\n",
      "Test Loss: 0.6145699468870012\n",
      "Test Accuracy: 65.70%\n",
      "EPOCH 25/30: "
     ]
    },
    {
     "name": "stderr",
     "output_type": "stream",
     "text": [
      "100%|██████████| 63/63 [00:18<00:00,  3.41it/s]\n"
     ]
    },
    {
     "name": "stdout",
     "output_type": "stream",
     "text": [
      "Train Loss: 0.6115244357358842\n",
      "Train Accuracy: 64.40%\n",
      "Test Loss: 0.6171418409498911\n",
      "Test Accuracy: 63.35%\n",
      "EPOCH 26/30: "
     ]
    },
    {
     "name": "stderr",
     "output_type": "stream",
     "text": [
      "100%|██████████| 63/63 [00:22<00:00,  2.76it/s]\n"
     ]
    },
    {
     "name": "stdout",
     "output_type": "stream",
     "text": [
      "Train Loss: 0.6086036042561607\n",
      "Train Accuracy: 49.80%\n",
      "Test Loss: 0.6533726482164293\n",
      "Test Accuracy: 49.90%\n",
      "EPOCH 27/30: "
     ]
    },
    {
     "name": "stderr",
     "output_type": "stream",
     "text": [
      "100%|██████████| 63/63 [00:17<00:00,  3.52it/s]\n"
     ]
    },
    {
     "name": "stdout",
     "output_type": "stream",
     "text": [
      "Train Loss: 0.6079804594554599\n",
      "Train Accuracy: 66.55%\n",
      "Test Loss: 0.6139504341852098\n",
      "Test Accuracy: 66.20%\n",
      "EPOCH 28/30: "
     ]
    },
    {
     "name": "stderr",
     "output_type": "stream",
     "text": [
      "100%|██████████| 63/63 [00:23<00:00,  2.71it/s]\n"
     ]
    },
    {
     "name": "stdout",
     "output_type": "stream",
     "text": [
      "Train Loss: 0.6037688085011074\n",
      "Train Accuracy: 66.10%\n",
      "Test Loss: 0.612057394924618\n",
      "Test Accuracy: 66.05%\n",
      "EPOCH 29/30: "
     ]
    },
    {
     "name": "stderr",
     "output_type": "stream",
     "text": [
      "100%|██████████| 63/63 [00:21<00:00,  2.90it/s]\n"
     ]
    },
    {
     "name": "stdout",
     "output_type": "stream",
     "text": [
      "Train Loss: 0.6061613029903836\n",
      "Train Accuracy: 65.80%\n",
      "Test Loss: 0.609187106291453\n",
      "Test Accuracy: 65.25%\n",
      "EPOCH 30/30: "
     ]
    },
    {
     "name": "stderr",
     "output_type": "stream",
     "text": [
      "100%|██████████| 63/63 [00:18<00:00,  3.43it/s]\n"
     ]
    },
    {
     "name": "stdout",
     "output_type": "stream",
     "text": [
      "Train Loss: 0.6019011452084496\n",
      "Train Accuracy: 49.80%\n",
      "Test Loss: 0.6293582348596483\n",
      "Test Accuracy: 49.70%\n"
     ]
    }
   ],
   "source": [
    "# Training MLP Model\n",
    "mlp_model = MLPModel(input_size, num_classes)\n",
    "\n",
    "# Print the model architecture\n",
    "print(mlp_model)\n",
    "\n",
    "# Define optimizers for the models\n",
    "optimizer = torch.optim.SGD(mlp_model.parameters(), lr=learning_rate)\n",
    "\n",
    "criterion = torch.nn.CrossEntropyLoss()\n",
    "# Train the NLP model\n",
    "train_losses, test_losses, train_accuracies, test_accuracies = train(mlp_model, optimizer, criterion, train_loader, test_loader, epochs, device)\n",
    "torch.save(mlp_model.state_dict(), 'mlp_model_final_weights.pth')\n",
    "torch.save((train_losses, test_losses), 'mlp_model_final_losses.pt')"
   ]
  },
  {
   "cell_type": "code",
   "execution_count": 41,
   "metadata": {},
   "outputs": [
    {
     "data": {
      "image/png": "[encoded data removed]",
      "text/plain": [
       "<Figure size 600x400 with 1 Axes>"
      ]
     },
     "metadata": {},
     "output_type": "display_data"
    }
   ],
   "source": [
    "# Evaluating MLP Model\n",
    "## Plot loss graph\n",
    "plt.figure(figsize=(6, 4))\n",
    "plt.plot(train_losses, label=\"Train\")\n",
    "plt.plot(test_losses, label=\"Test\")\n",
    "plt.xlabel(\"Epoch\")\n",
    "plt.ylabel(\"Loss\")\n",
    "plt.title(f\"MLP Model - Train and Test Losses\")\n",
    "plt.legend()\n",
    "plt.tight_layout()\n",
    "plt.grid()\n",
    "plt.show()\n",
    "\n"
   ]
  },
  {
   "cell_type": "code",
   "execution_count": 42,
   "metadata": {},
   "outputs": [
    {
     "data": {
      "image/png": "[encoded data removed]",
      "text/plain": [
       "<Figure size 600x400 with 1 Axes>"
      ]
     },
     "metadata": {},
     "output_type": "display_data"
    }
   ],
   "source": [
    "## Plot accuracy graph\n",
    "plt.figure(figsize=(6, 4))\n",
    "plt.plot(train_accuracies, label=\"Train\")\n",
    "plt.plot(test_accuracies, label=\"Test\")\n",
    "plt.xlabel(\"Epoch\")\n",
    "plt.ylabel(\"Accuracy\")\n",
    "plt.title(f\"MLP Model - Train and Test Accuracies\")\n",
    "plt.legend()\n",
    "plt.tight_layout()\n",
    "plt.grid()\n",
    "plt.show()"
   ]
  }
 ],
 "metadata": {
  "kernelspec": {
   "display_name": "braket",
   "language": "python",
   "name": "python3"
  },
  "language_info": {
   "codemirror_mode": {
    "name": "ipython",
    "version": 3
   },
   "file_extension": ".py",
   "mimetype": "text/x-python",
   "name": "python",
   "nbconvert_exporter": "python",
   "pygments_lexer": "ipython3",
   "version": "3.9.20"
  }
 },
 "nbformat": 4,
 "nbformat_minor": 2
}
