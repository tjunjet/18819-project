{
 "cells": [
  {
   "cell_type": "markdown",
   "id": "54754da0-f94d-4468-81a9-1c61607c217a",
   "metadata": {
    "tags": []
   },
   "source": [
    "# 18-819 QML Project running QVC to QiSkit"
   ]
  },
  {
   "cell_type": "code",
   "execution_count": 4,
   "id": "4e46dc0d",
   "metadata": {},
   "outputs": [
    {
     "name": "stdout",
     "output_type": "stream",
     "text": [
      "Collecting amazon-braket-sdk\n",
      "  Downloading amazon_braket_sdk-1.88.2-py3-none-any.whl.metadata (14 kB)\n",
      "Collecting amazon-braket-schemas>=1.21.3 (from amazon-braket-sdk)\n",
      "  Using cached amazon_braket_schemas-1.22.3-py3-none-any.whl.metadata (5.8 kB)\n",
      "Collecting amazon-braket-default-simulator>=1.26.0 (from amazon-braket-sdk)\n",
      "  Using cached amazon_braket_default_simulator-1.26.0-py3-none-any.whl.metadata (6.3 kB)\n",
      "Collecting oqpy~=0.3.5 (from amazon-braket-sdk)\n",
      "  Using cached oqpy-0.3.7-py3-none-any.whl.metadata (8.3 kB)\n",
      "Collecting backoff (from amazon-braket-sdk)\n",
      "  Using cached backoff-2.2.1-py3-none-any.whl.metadata (14 kB)\n",
      "Collecting boltons (from amazon-braket-sdk)\n",
      "  Using cached boltons-24.1.0-py3-none-any.whl.metadata (1.5 kB)\n",
      "Collecting boto3>=1.28.53 (from amazon-braket-sdk)\n",
      "  Downloading boto3-1.35.65-py3-none-any.whl.metadata (6.7 kB)\n",
      "Collecting cloudpickle==2.2.1 (from amazon-braket-sdk)\n",
      "  Downloading cloudpickle-2.2.1-py3-none-any.whl.metadata (6.9 kB)\n",
      "Requirement already satisfied: nest-asyncio in /root/anaconda3/envs/braket/lib/python3.9/site-packages (from amazon-braket-sdk) (1.6.0)\n",
      "Requirement already satisfied: networkx in /root/anaconda3/envs/braket/lib/python3.9/site-packages (from amazon-braket-sdk) (3.2.1)\n",
      "Requirement already satisfied: numpy in /root/anaconda3/envs/braket/lib/python3.9/site-packages (from amazon-braket-sdk) (1.26.4)\n",
      "Collecting openpulse (from amazon-braket-sdk)\n",
      "  Using cached openpulse-1.0.1-py3-none-any.whl.metadata (2.0 kB)\n",
      "Collecting openqasm3 (from amazon-braket-sdk)\n",
      "  Using cached openqasm3-1.0.0-py3-none-any.whl.metadata (6.0 kB)\n",
      "Requirement already satisfied: sympy in /root/anaconda3/envs/braket/lib/python3.9/site-packages (from amazon-braket-sdk) (1.13.3)\n",
      "Collecting backports.entry-points-selectable (from amazon-braket-sdk)\n",
      "  Using cached backports.entry_points_selectable-1.3.0-py3-none-any.whl.metadata (4.1 kB)\n",
      "Collecting opt-einsum (from amazon-braket-default-simulator>=1.26.0->amazon-braket-sdk)\n",
      "  Using cached opt_einsum-3.4.0-py3-none-any.whl.metadata (6.3 kB)\n",
      "Collecting pydantic>2 (from amazon-braket-default-simulator>=1.26.0->amazon-braket-sdk)\n",
      "  Using cached pydantic-2.9.2-py3-none-any.whl.metadata (149 kB)\n",
      "Requirement already satisfied: scipy in /root/anaconda3/envs/braket/lib/python3.9/site-packages (from amazon-braket-default-simulator>=1.26.0->amazon-braket-sdk) (1.13.1)\n",
      "Collecting antlr4-python3-runtime==4.9.2 (from amazon-braket-default-simulator>=1.26.0->amazon-braket-sdk)\n",
      "  Using cached antlr4-python3-runtime-4.9.2.tar.gz (117 kB)\n",
      "  Preparing metadata (setup.py) ... \u001b[?25ldone\n",
      "\u001b[?25hCollecting botocore<1.36.0,>=1.35.65 (from boto3>=1.28.53->amazon-braket-sdk)\n",
      "  Downloading botocore-1.35.65-py3-none-any.whl.metadata (5.7 kB)\n",
      "Collecting jmespath<2.0.0,>=0.7.1 (from boto3>=1.28.53->amazon-braket-sdk)\n",
      "  Using cached jmespath-1.0.1-py3-none-any.whl.metadata (7.6 kB)\n",
      "Collecting s3transfer<0.11.0,>=0.10.0 (from boto3>=1.28.53->amazon-braket-sdk)\n",
      "  Using cached s3transfer-0.10.3-py3-none-any.whl.metadata (1.7 kB)\n",
      "Collecting mypy-extensions>=0.2.0 (from oqpy~=0.3.5->amazon-braket-sdk)\n",
      "  Using cached mypy_extensions-1.0.0-py3-none-any.whl.metadata (1.1 kB)\n",
      "Requirement already satisfied: importlib-metadata in /root/anaconda3/envs/braket/lib/python3.9/site-packages (from openpulse->amazon-braket-sdk) (8.5.0)\n",
      "Requirement already satisfied: mpmath<1.4,>=1.1.0 in /root/anaconda3/envs/braket/lib/python3.9/site-packages (from sympy->amazon-braket-sdk) (1.3.0)\n",
      "Requirement already satisfied: python-dateutil<3.0.0,>=2.1 in /root/anaconda3/envs/braket/lib/python3.9/site-packages (from botocore<1.36.0,>=1.35.65->boto3>=1.28.53->amazon-braket-sdk) (2.9.0)\n",
      "Collecting urllib3<1.27,>=1.25.4 (from botocore<1.36.0,>=1.35.65->boto3>=1.28.53->amazon-braket-sdk)\n",
      "  Downloading urllib3-1.26.20-py2.py3-none-any.whl.metadata (50 kB)\n",
      "Collecting annotated-types>=0.6.0 (from pydantic>2->amazon-braket-default-simulator>=1.26.0->amazon-braket-sdk)\n",
      "  Using cached annotated_types-0.7.0-py3-none-any.whl.metadata (15 kB)\n",
      "Collecting pydantic-core==2.23.4 (from pydantic>2->amazon-braket-default-simulator>=1.26.0->amazon-braket-sdk)\n",
      "  Downloading pydantic_core-2.23.4-cp39-cp39-manylinux_2_17_x86_64.manylinux2014_x86_64.whl.metadata (6.6 kB)\n",
      "Requirement already satisfied: typing-extensions>=4.6.1 in /root/anaconda3/envs/braket/lib/python3.9/site-packages (from pydantic>2->amazon-braket-default-simulator>=1.26.0->amazon-braket-sdk) (4.12.2)\n",
      "Requirement already satisfied: zipp>=3.20 in /root/anaconda3/envs/braket/lib/python3.9/site-packages (from importlib-metadata->openpulse->amazon-braket-sdk) (3.20.2)\n",
      "Requirement already satisfied: six>=1.5 in /root/anaconda3/envs/braket/lib/python3.9/site-packages (from python-dateutil<3.0.0,>=2.1->botocore<1.36.0,>=1.35.65->boto3>=1.28.53->amazon-braket-sdk) (1.16.0)\n",
      "Downloading amazon_braket_sdk-1.88.2-py3-none-any.whl (315 kB)\n",
      "Downloading cloudpickle-2.2.1-py3-none-any.whl (25 kB)\n",
      "Using cached amazon_braket_default_simulator-1.26.0-py3-none-any.whl (223 kB)\n",
      "Using cached amazon_braket_schemas-1.22.3-py3-none-any.whl (127 kB)\n",
      "Downloading boto3-1.35.65-py3-none-any.whl (139 kB)\n",
      "Using cached oqpy-0.3.7-py3-none-any.whl (36 kB)\n",
      "Using cached openpulse-1.0.1-py3-none-any.whl (537 kB)\n",
      "Using cached openqasm3-1.0.0-py3-none-any.whl (539 kB)\n",
      "Using cached backoff-2.2.1-py3-none-any.whl (15 kB)\n",
      "Using cached backports.entry_points_selectable-1.3.0-py3-none-any.whl (6.2 kB)\n",
      "Using cached boltons-24.1.0-py3-none-any.whl (192 kB)\n",
      "Downloading botocore-1.35.65-py3-none-any.whl (12.9 MB)\n",
      "\u001b[2K   \u001b[90m━━━━━━━━━━━━━━━━━━━━━━━━━━━━━━━━━━━━━━━━\u001b[0m \u001b[32m12.9/12.9 MB\u001b[0m \u001b[31m1.9 MB/s\u001b[0m eta \u001b[36m0:00:00\u001b[0ma \u001b[36m0:00:01\u001b[0m\n",
      "\u001b[?25hUsing cached jmespath-1.0.1-py3-none-any.whl (20 kB)\n",
      "Using cached mypy_extensions-1.0.0-py3-none-any.whl (4.7 kB)\n",
      "Using cached pydantic-2.9.2-py3-none-any.whl (434 kB)\n",
      "Downloading pydantic_core-2.23.4-cp39-cp39-manylinux_2_17_x86_64.manylinux2014_x86_64.whl (2.1 MB)\n",
      "\u001b[2K   \u001b[90m━━━━━━━━━━━━━━━━━━━━━━━━━━━━━━━━━━━━━━━━\u001b[0m \u001b[32m2.1/2.1 MB\u001b[0m \u001b[31m2.8 MB/s\u001b[0m eta \u001b[36m0:00:00\u001b[0ma \u001b[36m0:00:01\u001b[0m\n",
      "\u001b[?25hUsing cached s3transfer-0.10.3-py3-none-any.whl (82 kB)\n",
      "Using cached opt_einsum-3.4.0-py3-none-any.whl (71 kB)\n",
      "Using cached annotated_types-0.7.0-py3-none-any.whl (13 kB)\n",
      "Downloading urllib3-1.26.20-py2.py3-none-any.whl (144 kB)\n",
      "Building wheels for collected packages: antlr4-python3-runtime\n",
      "  Building wheel for antlr4-python3-runtime (setup.py) ... \u001b[?25ldone\n",
      "\u001b[?25h  Created wheel for antlr4-python3-runtime: filename=antlr4_python3_runtime-4.9.2-py3-none-any.whl size=144546 sha256=583ebf3084b4e43a0000ceda6f900d627164cf1344599b31935cd65686e98ce5\n",
      "  Stored in directory: /root/.cache/pip/wheels/0c/dc/1c/57974cae05c0a98c8d8590c471bdd8e953fcf18b14fa0890b7\n",
      "Successfully built antlr4-python3-runtime\n",
      "Installing collected packages: openqasm3, antlr4-python3-runtime, urllib3, pydantic-core, opt-einsum, mypy-extensions, jmespath, cloudpickle, boltons, backports.entry-points-selectable, backoff, annotated-types, pydantic, botocore, s3transfer, openpulse, amazon-braket-schemas, oqpy, boto3, amazon-braket-default-simulator, amazon-braket-sdk\n",
      "Successfully installed amazon-braket-default-simulator-1.26.0 amazon-braket-schemas-1.22.3 amazon-braket-sdk-1.88.2 annotated-types-0.7.0 antlr4-python3-runtime-4.9.2 backoff-2.2.1 backports.entry-points-selectable-1.3.0 boltons-24.1.0 boto3-1.35.65 botocore-1.35.65 cloudpickle-2.2.1 jmespath-1.0.1 mypy-extensions-1.0.0 openpulse-1.0.1 openqasm3-1.0.0 opt-einsum-3.4.0 oqpy-0.3.7 pydantic-2.9.2 pydantic-core-2.23.4 s3transfer-0.10.3 urllib3-1.26.20\n",
      "\u001b[33mWARNING: Running pip as the 'root' user can result in broken permissions and conflicting behaviour with the system package manager, possibly rendering your system unusable.It is recommended to use a virtual environment instead: https://pip.pypa.io/warnings/venv. Use the --root-user-action option if you know what you are doing and want to suppress this warning.\u001b[0m\u001b[33m\n",
      "\u001b[0m"
     ]
    }
   ],
   "source": [
    "!pip install amazon-braket-sdk"
   ]
  },
  {
   "cell_type": "code",
   "execution_count": 5,
   "id": "fe363d14-b88d-4348-a9cc-a72ebf41d72d",
   "metadata": {
    "tags": []
   },
   "outputs": [],
   "source": [
    "# Use Braket SDK Cost Tracking to estimate cost\n",
    "from braket.tracking import Tracker\n",
    "t = Tracker().start()"
   ]
  },
  {
   "cell_type": "markdown",
   "id": "9e57decc-4d1b-48f9-8fa9-9e7db5a44484",
   "metadata": {},
   "source": [
    "### Accessing Quantum Processing Units\n",
    "\n",
    "We will access third party QPUs to run our training on quantum hardware. \n",
    "\n"
   ]
  },
  {
   "cell_type": "code",
   "execution_count": 7,
   "id": "12602010",
   "metadata": {},
   "outputs": [
    {
     "name": "stdout",
     "output_type": "stream",
     "text": [
      "Collecting qiskit_braket_provider\n",
      "  Using cached qiskit_braket_provider-0.4.1-py3-none-any.whl.metadata (3.7 kB)\n",
      "Collecting certifi>=2021.5.30 (from qiskit_braket_provider)\n",
      "  Using cached certifi-2024.8.30-py3-none-any.whl.metadata (2.2 kB)\n",
      "Collecting qiskit>=0.34.2 (from qiskit_braket_provider)\n",
      "  Using cached qiskit-1.2.4-cp38-abi3-manylinux_2_17_x86_64.manylinux2014_x86_64.whl.metadata (12 kB)\n",
      "Collecting qiskit-ionq>=0.5.2 (from qiskit_braket_provider)\n",
      "  Using cached qiskit_ionq-0.5.8-py3-none-any.whl.metadata (7.8 kB)\n",
      "Requirement already satisfied: amazon-braket-sdk>=1.76.0 in /root/anaconda3/envs/braket/lib/python3.9/site-packages (from qiskit_braket_provider) (1.88.2)\n",
      "Requirement already satisfied: setuptools>=40.1.0 in /root/anaconda3/envs/braket/lib/python3.9/site-packages (from qiskit_braket_provider) (75.1.0)\n",
      "Requirement already satisfied: numpy>=1.3 in /root/anaconda3/envs/braket/lib/python3.9/site-packages (from qiskit_braket_provider) (1.26.4)\n",
      "Requirement already satisfied: amazon-braket-schemas>=1.21.3 in /root/anaconda3/envs/braket/lib/python3.9/site-packages (from amazon-braket-sdk>=1.76.0->qiskit_braket_provider) (1.22.3)\n",
      "Requirement already satisfied: amazon-braket-default-simulator>=1.26.0 in /root/anaconda3/envs/braket/lib/python3.9/site-packages (from amazon-braket-sdk>=1.76.0->qiskit_braket_provider) (1.26.0)\n",
      "Requirement already satisfied: oqpy~=0.3.5 in /root/anaconda3/envs/braket/lib/python3.9/site-packages (from amazon-braket-sdk>=1.76.0->qiskit_braket_provider) (0.3.7)\n",
      "Requirement already satisfied: backoff in /root/anaconda3/envs/braket/lib/python3.9/site-packages (from amazon-braket-sdk>=1.76.0->qiskit_braket_provider) (2.2.1)\n",
      "Requirement already satisfied: boltons in /root/anaconda3/envs/braket/lib/python3.9/site-packages (from amazon-braket-sdk>=1.76.0->qiskit_braket_provider) (24.1.0)\n",
      "Requirement already satisfied: boto3>=1.28.53 in /root/anaconda3/envs/braket/lib/python3.9/site-packages (from amazon-braket-sdk>=1.76.0->qiskit_braket_provider) (1.35.65)\n",
      "Requirement already satisfied: cloudpickle==2.2.1 in /root/anaconda3/envs/braket/lib/python3.9/site-packages (from amazon-braket-sdk>=1.76.0->qiskit_braket_provider) (2.2.1)\n",
      "Requirement already satisfied: nest-asyncio in /root/anaconda3/envs/braket/lib/python3.9/site-packages (from amazon-braket-sdk>=1.76.0->qiskit_braket_provider) (1.6.0)\n",
      "Requirement already satisfied: networkx in /root/anaconda3/envs/braket/lib/python3.9/site-packages (from amazon-braket-sdk>=1.76.0->qiskit_braket_provider) (3.2.1)\n",
      "Requirement already satisfied: openpulse in /root/anaconda3/envs/braket/lib/python3.9/site-packages (from amazon-braket-sdk>=1.76.0->qiskit_braket_provider) (1.0.1)\n",
      "Requirement already satisfied: openqasm3 in /root/anaconda3/envs/braket/lib/python3.9/site-packages (from amazon-braket-sdk>=1.76.0->qiskit_braket_provider) (1.0.0)\n",
      "Requirement already satisfied: sympy in /root/anaconda3/envs/braket/lib/python3.9/site-packages (from amazon-braket-sdk>=1.76.0->qiskit_braket_provider) (1.13.3)\n",
      "Requirement already satisfied: backports.entry-points-selectable in /root/anaconda3/envs/braket/lib/python3.9/site-packages (from amazon-braket-sdk>=1.76.0->qiskit_braket_provider) (1.3.0)\n",
      "Collecting rustworkx>=0.15.0 (from qiskit>=0.34.2->qiskit_braket_provider)\n",
      "  Using cached rustworkx-0.15.1-cp38-abi3-manylinux_2_17_x86_64.manylinux2014_x86_64.whl.metadata (9.9 kB)\n",
      "Requirement already satisfied: scipy>=1.5 in /root/anaconda3/envs/braket/lib/python3.9/site-packages (from qiskit>=0.34.2->qiskit_braket_provider) (1.13.1)\n",
      "Collecting dill>=0.3 (from qiskit>=0.34.2->qiskit_braket_provider)\n",
      "  Using cached dill-0.3.9-py3-none-any.whl.metadata (10 kB)\n",
      "Requirement already satisfied: python-dateutil>=2.8.0 in /root/anaconda3/envs/braket/lib/python3.9/site-packages (from qiskit>=0.34.2->qiskit_braket_provider) (2.9.0)\n",
      "Collecting stevedore>=3.0.0 (from qiskit>=0.34.2->qiskit_braket_provider)\n",
      "  Using cached stevedore-5.3.0-py3-none-any.whl.metadata (2.3 kB)\n",
      "Requirement already satisfied: typing-extensions in /root/anaconda3/envs/braket/lib/python3.9/site-packages (from qiskit>=0.34.2->qiskit_braket_provider) (4.12.2)\n",
      "Collecting symengine<0.14,>=0.11 (from qiskit>=0.34.2->qiskit_braket_provider)\n",
      "  Downloading symengine-0.13.0-cp39-cp39-manylinux_2_17_x86_64.manylinux2014_x86_64.whl.metadata (1.2 kB)\n",
      "Requirement already satisfied: decorator>=5.1.0 in /root/anaconda3/envs/braket/lib/python3.9/site-packages (from qiskit-ionq>=0.5.2->qiskit_braket_provider) (5.1.1)\n",
      "Collecting requests>=2.24.0 (from qiskit-ionq>=0.5.2->qiskit_braket_provider)\n",
      "  Using cached requests-2.32.3-py3-none-any.whl.metadata (4.6 kB)\n",
      "Collecting retry>=0.9.0 (from qiskit-ionq>=0.5.2->qiskit_braket_provider)\n",
      "  Using cached retry-0.9.2-py2.py3-none-any.whl.metadata (5.8 kB)\n",
      "Requirement already satisfied: importlib-metadata>=4.11.4 in /root/anaconda3/envs/braket/lib/python3.9/site-packages (from qiskit-ionq>=0.5.2->qiskit_braket_provider) (8.5.0)\n",
      "Collecting python-dotenv>=1.0.1 (from qiskit-ionq>=0.5.2->qiskit_braket_provider)\n",
      "  Using cached python_dotenv-1.0.1-py3-none-any.whl.metadata (23 kB)\n",
      "Requirement already satisfied: opt-einsum in /root/anaconda3/envs/braket/lib/python3.9/site-packages (from amazon-braket-default-simulator>=1.26.0->amazon-braket-sdk>=1.76.0->qiskit_braket_provider) (3.4.0)\n",
      "Requirement already satisfied: pydantic>2 in /root/anaconda3/envs/braket/lib/python3.9/site-packages (from amazon-braket-default-simulator>=1.26.0->amazon-braket-sdk>=1.76.0->qiskit_braket_provider) (2.9.2)\n",
      "Requirement already satisfied: antlr4-python3-runtime==4.9.2 in /root/anaconda3/envs/braket/lib/python3.9/site-packages (from amazon-braket-default-simulator>=1.26.0->amazon-braket-sdk>=1.76.0->qiskit_braket_provider) (4.9.2)\n",
      "Requirement already satisfied: botocore<1.36.0,>=1.35.65 in /root/anaconda3/envs/braket/lib/python3.9/site-packages (from boto3>=1.28.53->amazon-braket-sdk>=1.76.0->qiskit_braket_provider) (1.35.65)\n",
      "Requirement already satisfied: jmespath<2.0.0,>=0.7.1 in /root/anaconda3/envs/braket/lib/python3.9/site-packages (from boto3>=1.28.53->amazon-braket-sdk>=1.76.0->qiskit_braket_provider) (1.0.1)\n",
      "Requirement already satisfied: s3transfer<0.11.0,>=0.10.0 in /root/anaconda3/envs/braket/lib/python3.9/site-packages (from boto3>=1.28.53->amazon-braket-sdk>=1.76.0->qiskit_braket_provider) (0.10.3)\n",
      "Requirement already satisfied: zipp>=3.20 in /root/anaconda3/envs/braket/lib/python3.9/site-packages (from importlib-metadata>=4.11.4->qiskit-ionq>=0.5.2->qiskit_braket_provider) (3.20.2)\n",
      "Requirement already satisfied: mypy-extensions>=0.2.0 in /root/anaconda3/envs/braket/lib/python3.9/site-packages (from oqpy~=0.3.5->amazon-braket-sdk>=1.76.0->qiskit_braket_provider) (1.0.0)\n",
      "Requirement already satisfied: six>=1.5 in /root/anaconda3/envs/braket/lib/python3.9/site-packages (from python-dateutil>=2.8.0->qiskit>=0.34.2->qiskit_braket_provider) (1.16.0)\n",
      "Collecting charset-normalizer<4,>=2 (from requests>=2.24.0->qiskit-ionq>=0.5.2->qiskit_braket_provider)\n",
      "  Using cached charset_normalizer-3.4.0-cp39-cp39-manylinux_2_17_x86_64.manylinux2014_x86_64.whl.metadata (34 kB)\n",
      "Collecting idna<4,>=2.5 (from requests>=2.24.0->qiskit-ionq>=0.5.2->qiskit_braket_provider)\n",
      "  Using cached idna-3.10-py3-none-any.whl.metadata (10 kB)\n",
      "Requirement already satisfied: urllib3<3,>=1.21.1 in /root/anaconda3/envs/braket/lib/python3.9/site-packages (from requests>=2.24.0->qiskit-ionq>=0.5.2->qiskit_braket_provider) (1.26.20)\n",
      "Collecting py<2.0.0,>=1.4.26 (from retry>=0.9.0->qiskit-ionq>=0.5.2->qiskit_braket_provider)\n",
      "  Using cached py-1.11.0-py2.py3-none-any.whl.metadata (2.8 kB)\n",
      "Collecting pbr>=2.0.0 (from stevedore>=3.0.0->qiskit>=0.34.2->qiskit_braket_provider)\n",
      "  Using cached pbr-6.1.0-py2.py3-none-any.whl.metadata (3.4 kB)\n",
      "Requirement already satisfied: mpmath<1.4,>=1.1.0 in /root/anaconda3/envs/braket/lib/python3.9/site-packages (from sympy->amazon-braket-sdk>=1.76.0->qiskit_braket_provider) (1.3.0)\n",
      "Requirement already satisfied: annotated-types>=0.6.0 in /root/anaconda3/envs/braket/lib/python3.9/site-packages (from pydantic>2->amazon-braket-default-simulator>=1.26.0->amazon-braket-sdk>=1.76.0->qiskit_braket_provider) (0.7.0)\n",
      "Requirement already satisfied: pydantic-core==2.23.4 in /root/anaconda3/envs/braket/lib/python3.9/site-packages (from pydantic>2->amazon-braket-default-simulator>=1.26.0->amazon-braket-sdk>=1.76.0->qiskit_braket_provider) (2.23.4)\n",
      "Using cached qiskit_braket_provider-0.4.1-py3-none-any.whl (37 kB)\n",
      "Using cached certifi-2024.8.30-py3-none-any.whl (167 kB)\n",
      "Using cached qiskit-1.2.4-cp38-abi3-manylinux_2_17_x86_64.manylinux2014_x86_64.whl (4.8 MB)\n",
      "Using cached qiskit_ionq-0.5.8-py3-none-any.whl (41 kB)\n",
      "Using cached dill-0.3.9-py3-none-any.whl (119 kB)\n",
      "Using cached python_dotenv-1.0.1-py3-none-any.whl (19 kB)\n",
      "Using cached requests-2.32.3-py3-none-any.whl (64 kB)\n",
      "Using cached retry-0.9.2-py2.py3-none-any.whl (8.0 kB)\n",
      "Using cached rustworkx-0.15.1-cp38-abi3-manylinux_2_17_x86_64.manylinux2014_x86_64.whl (2.0 MB)\n",
      "Using cached stevedore-5.3.0-py3-none-any.whl (49 kB)\n",
      "Downloading symengine-0.13.0-cp39-cp39-manylinux_2_17_x86_64.manylinux2014_x86_64.whl (49.7 MB)\n",
      "\u001b[2K   \u001b[90m━━━━━━━━━━━━━━━━━━━━━━━━━━━━━━━━━━━━━━━━\u001b[0m \u001b[32m49.7/49.7 MB\u001b[0m \u001b[31m843.4 kB/s\u001b[0m eta \u001b[36m0:00:00\u001b[0m00:01\u001b[0m00:02\u001b[0m\n",
      "\u001b[?25hUsing cached charset_normalizer-3.4.0-cp39-cp39-manylinux_2_17_x86_64.manylinux2014_x86_64.whl (144 kB)\n",
      "Using cached idna-3.10-py3-none-any.whl (70 kB)\n",
      "Using cached pbr-6.1.0-py2.py3-none-any.whl (108 kB)\n",
      "Using cached py-1.11.0-py2.py3-none-any.whl (98 kB)\n",
      "Installing collected packages: symengine, rustworkx, python-dotenv, py, pbr, idna, dill, charset-normalizer, certifi, stevedore, retry, requests, qiskit, qiskit-ionq, qiskit_braket_provider\n",
      "Successfully installed certifi-2024.8.30 charset-normalizer-3.4.0 dill-0.3.9 idna-3.10 pbr-6.1.0 py-1.11.0 python-dotenv-1.0.1 qiskit-1.2.4 qiskit-ionq-0.5.8 qiskit_braket_provider-0.4.1 requests-2.32.3 retry-0.9.2 rustworkx-0.15.1 stevedore-5.3.0 symengine-0.13.0\n",
      "\u001b[33mWARNING: Running pip as the 'root' user can result in broken permissions and conflicting behaviour with the system package manager, possibly rendering your system unusable.It is recommended to use a virtual environment instead: https://pip.pypa.io/warnings/venv. Use the --root-user-action option if you know what you are doing and want to suppress this warning.\u001b[0m\u001b[33m\n",
      "\u001b[0m"
     ]
    }
   ],
   "source": [
    "!pip install qiskit_braket_provider\n"
   ]
  },
  {
   "cell_type": "code",
   "execution_count": 8,
   "id": "b0427cec-bb47-4e71-97fe-bc0d34d47d98",
   "metadata": {
    "tags": []
   },
   "outputs": [
    {
     "ename": "ModuleNotFoundError",
     "evalue": "No module named 'backports.entry_points_selectable'",
     "output_type": "error",
     "traceback": [
      "\u001b[0;31m---------------------------------------------------------------------------\u001b[0m",
      "\u001b[0;31mModuleNotFoundError\u001b[0m                       Traceback (most recent call last)",
      "Cell \u001b[0;32mIn[8], line 1\u001b[0m\n\u001b[0;32m----> 1\u001b[0m \u001b[38;5;28;01mfrom\u001b[39;00m \u001b[38;5;21;01mqiskit_braket_provider\u001b[39;00m \u001b[38;5;28;01mimport\u001b[39;00m BraketProvider\n\u001b[1;32m      3\u001b[0m provider \u001b[38;5;241m=\u001b[39m BraketProvider()\n\u001b[1;32m      5\u001b[0m \u001b[38;5;66;03m# Seeing which QPUs are online\u001b[39;00m\n",
      "File \u001b[0;32m~/anaconda3/envs/braket/lib/python3.9/site-packages/qiskit_braket_provider/__init__.py:3\u001b[0m\n\u001b[1;32m      1\u001b[0m \u001b[38;5;124;03m\"\"\"Qiskit-Braket provider.\"\"\"\u001b[39;00m\n\u001b[0;32m----> 3\u001b[0m \u001b[38;5;28;01mfrom\u001b[39;00m \u001b[38;5;21;01m.\u001b[39;00m\u001b[38;5;21;01mproviders\u001b[39;00m \u001b[38;5;28;01mimport\u001b[39;00m (\n\u001b[1;32m      4\u001b[0m     AmazonBraketTask,\n\u001b[1;32m      5\u001b[0m     AWSBraketBackend,\n\u001b[1;32m      6\u001b[0m     AWSBraketJob,\n\u001b[1;32m      7\u001b[0m     AWSBraketProvider,\n\u001b[1;32m      8\u001b[0m     BraketAwsBackend,\n\u001b[1;32m      9\u001b[0m     BraketLocalBackend,\n\u001b[1;32m     10\u001b[0m     BraketProvider,\n\u001b[1;32m     11\u001b[0m     BraketQuantumTask,\n\u001b[1;32m     12\u001b[0m     to_braket,\n\u001b[1;32m     13\u001b[0m     to_qiskit,\n\u001b[1;32m     14\u001b[0m )\n",
      "File \u001b[0;32m~/anaconda3/envs/braket/lib/python3.9/site-packages/qiskit_braket_provider/providers/__init__.py:23\u001b[0m\n\u001b[1;32m      1\u001b[0m \u001b[38;5;124;03m\"\"\"\u001b[39;00m\n\u001b[1;32m      2\u001b[0m \u001b[38;5;124;03m=========================================================\u001b[39;00m\n\u001b[1;32m      3\u001b[0m \u001b[38;5;124;03mProvider module (:mod:`qiskit_braket_provider.providers`)\u001b[39;00m\n\u001b[0;32m   (...)\u001b[0m\n\u001b[1;32m     20\u001b[0m \u001b[38;5;124;03m    AmazonBraketTask\u001b[39;00m\n\u001b[1;32m     21\u001b[0m \u001b[38;5;124;03m\"\"\"\u001b[39;00m\n\u001b[0;32m---> 23\u001b[0m \u001b[38;5;28;01mfrom\u001b[39;00m \u001b[38;5;21;01m.\u001b[39;00m\u001b[38;5;21;01madapter\u001b[39;00m \u001b[38;5;28;01mimport\u001b[39;00m to_braket, to_qiskit\n\u001b[1;32m     24\u001b[0m \u001b[38;5;28;01mfrom\u001b[39;00m \u001b[38;5;21;01m.\u001b[39;00m\u001b[38;5;21;01mbraket_backend\u001b[39;00m \u001b[38;5;28;01mimport\u001b[39;00m AWSBraketBackend, BraketAwsBackend, BraketLocalBackend\n\u001b[1;32m     25\u001b[0m \u001b[38;5;28;01mfrom\u001b[39;00m \u001b[38;5;21;01m.\u001b[39;00m\u001b[38;5;21;01mbraket_job\u001b[39;00m \u001b[38;5;28;01mimport\u001b[39;00m AmazonBraketTask, AWSBraketJob\n",
      "File \u001b[0;32m~/anaconda3/envs/braket/lib/python3.9/site-packages/qiskit_braket_provider/providers/adapter.py:10\u001b[0m\n\u001b[1;32m      8\u001b[0m \u001b[38;5;28;01mimport\u001b[39;00m \u001b[38;5;21;01mbraket\u001b[39;00m\u001b[38;5;21;01m.\u001b[39;00m\u001b[38;5;21;01mcircuits\u001b[39;00m\u001b[38;5;21;01m.\u001b[39;00m\u001b[38;5;21;01mgates\u001b[39;00m \u001b[38;5;28;01mas\u001b[39;00m \u001b[38;5;21;01mbraket_gates\u001b[39;00m\n\u001b[1;32m      9\u001b[0m \u001b[38;5;28;01mimport\u001b[39;00m \u001b[38;5;21;01mqiskit\u001b[39;00m\u001b[38;5;21;01m.\u001b[39;00m\u001b[38;5;21;01mcircuit\u001b[39;00m\u001b[38;5;21;01m.\u001b[39;00m\u001b[38;5;21;01mlibrary\u001b[39;00m \u001b[38;5;28;01mas\u001b[39;00m \u001b[38;5;21;01mqiskit_gates\u001b[39;00m\n\u001b[0;32m---> 10\u001b[0m \u001b[38;5;28;01mfrom\u001b[39;00m \u001b[38;5;21;01mbraket\u001b[39;00m\u001b[38;5;21;01m.\u001b[39;00m\u001b[38;5;21;01maws\u001b[39;00m \u001b[38;5;28;01mimport\u001b[39;00m AwsDevice\n\u001b[1;32m     11\u001b[0m \u001b[38;5;28;01mfrom\u001b[39;00m \u001b[38;5;21;01mbraket\u001b[39;00m\u001b[38;5;21;01m.\u001b[39;00m\u001b[38;5;21;01mcircuits\u001b[39;00m \u001b[38;5;28;01mimport\u001b[39;00m (\n\u001b[1;32m     12\u001b[0m     Circuit,\n\u001b[1;32m     13\u001b[0m     FreeParameter,\n\u001b[0;32m   (...)\u001b[0m\n\u001b[1;32m     16\u001b[0m     measure,\n\u001b[1;32m     17\u001b[0m )\n\u001b[1;32m     18\u001b[0m \u001b[38;5;28;01mfrom\u001b[39;00m \u001b[38;5;21;01mbraket\u001b[39;00m\u001b[38;5;21;01m.\u001b[39;00m\u001b[38;5;21;01mdevice_schema\u001b[39;00m \u001b[38;5;28;01mimport\u001b[39;00m DeviceActionType, OpenQASMDeviceActionProperties\n",
      "File \u001b[0;32m~/anaconda3/envs/braket/lib/python3.9/site-packages/braket/aws/__init__.py:14\u001b[0m\n\u001b[1;32m      1\u001b[0m \u001b[38;5;66;03m# Copyright Amazon.com Inc. or its affiliates. All Rights Reserved.\u001b[39;00m\n\u001b[1;32m      2\u001b[0m \u001b[38;5;66;03m#\u001b[39;00m\n\u001b[1;32m      3\u001b[0m \u001b[38;5;66;03m# Licensed under the Apache License, Version 2.0 (the \"License\"). You\u001b[39;00m\n\u001b[0;32m   (...)\u001b[0m\n\u001b[1;32m     11\u001b[0m \u001b[38;5;66;03m# ANY KIND, either express or implied. See the License for the specific\u001b[39;00m\n\u001b[1;32m     12\u001b[0m \u001b[38;5;66;03m# language governing permissions and limitations under the License.\u001b[39;00m\n\u001b[0;32m---> 14\u001b[0m \u001b[38;5;28;01mfrom\u001b[39;00m \u001b[38;5;21;01mbraket\u001b[39;00m\u001b[38;5;21;01m.\u001b[39;00m\u001b[38;5;21;01maws\u001b[39;00m\u001b[38;5;21;01m.\u001b[39;00m\u001b[38;5;21;01maws_device\u001b[39;00m \u001b[38;5;28;01mimport\u001b[39;00m AwsDevice, AwsDeviceType  \u001b[38;5;66;03m# noqa: F401\u001b[39;00m\n\u001b[1;32m     15\u001b[0m \u001b[38;5;28;01mfrom\u001b[39;00m \u001b[38;5;21;01mbraket\u001b[39;00m\u001b[38;5;21;01m.\u001b[39;00m\u001b[38;5;21;01maws\u001b[39;00m\u001b[38;5;21;01m.\u001b[39;00m\u001b[38;5;21;01maws_quantum_job\u001b[39;00m \u001b[38;5;28;01mimport\u001b[39;00m AwsQuantumJob  \u001b[38;5;66;03m# noqa: F401\u001b[39;00m\n\u001b[1;32m     16\u001b[0m \u001b[38;5;28;01mfrom\u001b[39;00m \u001b[38;5;21;01mbraket\u001b[39;00m\u001b[38;5;21;01m.\u001b[39;00m\u001b[38;5;21;01maws\u001b[39;00m\u001b[38;5;21;01m.\u001b[39;00m\u001b[38;5;21;01maws_quantum_task\u001b[39;00m \u001b[38;5;28;01mimport\u001b[39;00m AwsQuantumTask  \u001b[38;5;66;03m# noqa: F401\u001b[39;00m\n",
      "File \u001b[0;32m~/anaconda3/envs/braket/lib/python3.9/site-packages/braket/aws/aws_device.py:42\u001b[0m\n\u001b[1;32m     40\u001b[0m \u001b[38;5;66;03m# TODO: Remove device_action module once this is added to init in the schemas repo\u001b[39;00m\n\u001b[1;32m     41\u001b[0m \u001b[38;5;28;01mfrom\u001b[39;00m \u001b[38;5;21;01mbraket\u001b[39;00m\u001b[38;5;21;01m.\u001b[39;00m\u001b[38;5;21;01mdevice_schema\u001b[39;00m\u001b[38;5;21;01m.\u001b[39;00m\u001b[38;5;21;01mpulse\u001b[39;00m\u001b[38;5;21;01m.\u001b[39;00m\u001b[38;5;21;01mpulse_device_action_properties_v1\u001b[39;00m \u001b[38;5;28;01mimport\u001b[39;00m PulseDeviceActionProperties\n\u001b[0;32m---> 42\u001b[0m \u001b[38;5;28;01mfrom\u001b[39;00m \u001b[38;5;21;01mbraket\u001b[39;00m\u001b[38;5;21;01m.\u001b[39;00m\u001b[38;5;21;01mdevices\u001b[39;00m\u001b[38;5;21;01m.\u001b[39;00m\u001b[38;5;21;01mdevice\u001b[39;00m \u001b[38;5;28;01mimport\u001b[39;00m Device\n\u001b[1;32m     43\u001b[0m \u001b[38;5;28;01mfrom\u001b[39;00m \u001b[38;5;21;01mbraket\u001b[39;00m\u001b[38;5;21;01m.\u001b[39;00m\u001b[38;5;21;01mir\u001b[39;00m\u001b[38;5;21;01m.\u001b[39;00m\u001b[38;5;21;01mblackbird\u001b[39;00m \u001b[38;5;28;01mimport\u001b[39;00m Program \u001b[38;5;28;01mas\u001b[39;00m BlackbirdProgram\n\u001b[1;32m     44\u001b[0m \u001b[38;5;28;01mfrom\u001b[39;00m \u001b[38;5;21;01mbraket\u001b[39;00m\u001b[38;5;21;01m.\u001b[39;00m\u001b[38;5;21;01mir\u001b[39;00m\u001b[38;5;21;01m.\u001b[39;00m\u001b[38;5;21;01mopenqasm\u001b[39;00m \u001b[38;5;28;01mimport\u001b[39;00m Program \u001b[38;5;28;01mas\u001b[39;00m OpenQasmProgram\n",
      "File \u001b[0;32m~/anaconda3/envs/braket/lib/python3.9/site-packages/braket/devices/__init__.py:16\u001b[0m\n\u001b[1;32m     14\u001b[0m \u001b[38;5;28;01mfrom\u001b[39;00m \u001b[38;5;21;01mbraket\u001b[39;00m\u001b[38;5;21;01m.\u001b[39;00m\u001b[38;5;21;01mdevices\u001b[39;00m\u001b[38;5;21;01m.\u001b[39;00m\u001b[38;5;21;01mdevice\u001b[39;00m \u001b[38;5;28;01mimport\u001b[39;00m Device  \u001b[38;5;66;03m# noqa: F401\u001b[39;00m\n\u001b[1;32m     15\u001b[0m \u001b[38;5;28;01mfrom\u001b[39;00m \u001b[38;5;21;01mbraket\u001b[39;00m\u001b[38;5;21;01m.\u001b[39;00m\u001b[38;5;21;01mdevices\u001b[39;00m\u001b[38;5;21;01m.\u001b[39;00m\u001b[38;5;21;01mdevices\u001b[39;00m \u001b[38;5;28;01mimport\u001b[39;00m Devices  \u001b[38;5;66;03m# noqa: F401\u001b[39;00m\n\u001b[0;32m---> 16\u001b[0m \u001b[38;5;28;01mfrom\u001b[39;00m \u001b[38;5;21;01mbraket\u001b[39;00m\u001b[38;5;21;01m.\u001b[39;00m\u001b[38;5;21;01mdevices\u001b[39;00m\u001b[38;5;21;01m.\u001b[39;00m\u001b[38;5;21;01mlocal_simulator\u001b[39;00m \u001b[38;5;28;01mimport\u001b[39;00m LocalSimulator  \u001b[38;5;66;03m# noqa: F401\u001b[39;00m\n",
      "File \u001b[0;32m~/anaconda3/envs/braket/lib/python3.9/site-packages/braket/devices/local_simulator.py:46\u001b[0m\n\u001b[1;32m     43\u001b[0m \u001b[38;5;28;01mfrom\u001b[39;00m \u001b[38;5;21;01mbraket\u001b[39;00m\u001b[38;5;21;01m.\u001b[39;00m\u001b[38;5;21;01mtasks\u001b[39;00m\u001b[38;5;21;01m.\u001b[39;00m\u001b[38;5;21;01mlocal_quantum_task_batch\u001b[39;00m \u001b[38;5;28;01mimport\u001b[39;00m LocalQuantumTaskBatch\n\u001b[1;32m     45\u001b[0m \u001b[38;5;28;01mif\u001b[39;00m sys\u001b[38;5;241m.\u001b[39mversion_info\u001b[38;5;241m.\u001b[39mminor \u001b[38;5;241m==\u001b[39m \u001b[38;5;241m9\u001b[39m:\n\u001b[0;32m---> 46\u001b[0m     \u001b[38;5;28;01mfrom\u001b[39;00m \u001b[38;5;21;01mbackports\u001b[39;00m\u001b[38;5;21;01m.\u001b[39;00m\u001b[38;5;21;01mentry_points_selectable\u001b[39;00m \u001b[38;5;28;01mimport\u001b[39;00m entry_points\n\u001b[1;32m     47\u001b[0m \u001b[38;5;28;01melse\u001b[39;00m:\n\u001b[1;32m     48\u001b[0m     \u001b[38;5;28;01mfrom\u001b[39;00m \u001b[38;5;21;01mimportlib\u001b[39;00m\u001b[38;5;21;01m.\u001b[39;00m\u001b[38;5;21;01mmetadata\u001b[39;00m \u001b[38;5;28;01mimport\u001b[39;00m entry_points\n",
      "\u001b[0;31mModuleNotFoundError\u001b[0m: No module named 'backports.entry_points_selectable'"
     ]
    }
   ],
   "source": [
    "from qiskit_braket_provider import BraketProvider\n",
    "\n",
    "provider = BraketProvider()\n",
    "\n",
    "# Seeing which QPUs are online\n",
    "provider.backends(statuses=[\"ONLINE\"], types=[\"QPU\"])\n"
   ]
  },
  {
   "cell_type": "code",
   "execution_count": null,
   "id": "e860b183-caa1-437a-bcd3-805760469176",
   "metadata": {
    "tags": []
   },
   "outputs": [],
   "source": [
    "qpu_backend = provider.get_backend(\"Aria 1\")\n",
    "\n",
    "print(qpu_backend)"
   ]
  },
  {
   "cell_type": "markdown",
   "id": "926d73d7-9c45-4ef2-b5c5-b4e421c2c711",
   "metadata": {},
   "source": [
    "### Loading the Exoplanet training data\n",
    "\n",
    "The exoplanet training data has already been separated into X_train, X_test, y_train, y_test. \n",
    "\n",
    "We will use it for the training\n"
   ]
  },
  {
   "cell_type": "code",
   "execution_count": 9,
   "id": "9fc2c844-9be5-4d9b-b749-92b9bad1f796",
   "metadata": {
    "tags": []
   },
   "outputs": [],
   "source": [
    "import numpy as np\n",
    "import matplotlib.pyplot as plt\n",
    "import pandas as pd"
   ]
  },
  {
   "cell_type": "code",
   "execution_count": 10,
   "id": "7b0f28c4-9662-4bdd-9a88-8fec31dfc729",
   "metadata": {
    "tags": []
   },
   "outputs": [
    {
     "name": "stdout",
     "output_type": "stream",
     "text": [
      "X_train shape: (2000, 37)\n",
      "X_test shape: (2000, 37)\n",
      "Y_train shape: (2000,)\n",
      "Y_test shape: (2000,)\n"
     ]
    }
   ],
   "source": [
    "X_train = np.loadtxt('middle_data/X_train.txt', delimiter=' ')\n",
    "X_test  = np.loadtxt('middle_data/X_test.txt', delimiter=' ')\n",
    "\n",
    "Y_train = np.loadtxt('middle_data/Y_train.txt', delimiter=' ')\n",
    "Y_test  = np.loadtxt('middle_data/Y_test.txt', delimiter=' ')\n",
    "\n",
    "print(f\"X_train shape: {X_train.shape}\")\n",
    "print(f\"X_test shape: {X_test.shape}\")\n",
    "print(f\"Y_train shape: {Y_train.shape}\")\n",
    "print(f\"Y_test shape: {Y_test.shape}\")"
   ]
  },
  {
   "cell_type": "code",
   "execution_count": 11,
   "id": "3dc664f9-038b-45a1-b7c6-50316e209545",
   "metadata": {
    "tags": []
   },
   "outputs": [
    {
     "name": "stdout",
     "output_type": "stream",
     "text": [
      "<class 'numpy.ndarray'>\n"
     ]
    }
   ],
   "source": [
    "print(type(X_train))"
   ]
  },
  {
   "cell_type": "markdown",
   "id": "375912a7-2de5-4e51-a259-0f6daf233621",
   "metadata": {
    "tags": []
   },
   "source": [
    "### 1. Data pre-processing \n",
    "\n",
    "In this step, we will perform normalization of the X dataset, and label y in binary terms"
   ]
  },
  {
   "cell_type": "code",
   "execution_count": null,
   "id": "c36d7599-1004-4ccd-bf25-c75b3aa0afaf",
   "metadata": {
    "tags": []
   },
   "outputs": [],
   "source": [
    "!/home/ec2-user/anaconda3/envs/Braket/bin/python -m pip install scikit-learn pylatexenc"
   ]
  },
  {
   "cell_type": "code",
   "execution_count": 12,
   "id": "433f5f43-456a-4fc0-8975-15a1d9f14ffe",
   "metadata": {
    "tags": []
   },
   "outputs": [
    {
     "name": "stdout",
     "output_type": "stream",
     "text": [
      "X_train shape after selection: (2000, 2)\n",
      "X_test shape after selection: (2000, 2)\n"
     ]
    }
   ],
   "source": [
    "from sklearn.decomposition import PCA\n",
    "from sklearn.preprocessing import MinMaxScaler\n",
    "\n",
    "# Dimensionality reduction\n",
    "pca = PCA(n_components=2)\n",
    "X_train = pca.fit_transform(X_train)\n",
    "X_test = pca.transform(X_test)\n",
    "\n",
    "# Normalize data to the range [-1, 1] (use the training set to fit the scaler)\n",
    "scaler = MinMaxScaler(feature_range=(-1, 1))\n",
    "X_train = scaler.fit_transform(X_train)\n",
    "X_test = scaler.transform(X_test)\n",
    "\n",
    "# Ensure labels are binary (if not already binary)\n",
    "Y_train = (Y_train > np.median(Y_train)).astype(int)\n",
    "Y_test = (Y_test > np.median(Y_test)).astype(int)\n",
    "\n",
    "print(f\"X_train shape after selection: {X_train.shape}\")\n",
    "print(f\"X_test shape after selection: {X_test.shape}\")"
   ]
  },
  {
   "cell_type": "markdown",
   "id": "c992bf1c-41e1-4f53-b20e-7620573e67a8",
   "metadata": {},
   "source": [
    "Encoding the data into quantum states"
   ]
  },
  {
   "cell_type": "markdown",
   "id": "4920cd60-b70b-41ef-9789-bdb610803ad7",
   "metadata": {},
   "source": [
    "### 2. Defining the ZZFeatureMap\n",
    "\n",
    "The ZZFeatureMap encodes the classical data into a quantum state. The depth determines the number of repeated layers in the feature map."
   ]
  },
  {
   "cell_type": "code",
   "execution_count": 13,
   "id": "a4eb1626-aeb9-47e7-8da1-9513da6d0aa9",
   "metadata": {
    "tags": []
   },
   "outputs": [
    {
     "data": {
      "image/png": "[encoded data removed]",
      "text/plain": [
       "<Figure size 705.35x200.667 with 1 Axes>"
      ]
     },
     "execution_count": 13,
     "metadata": {},
     "output_type": "execute_result"
    }
   ],
   "source": [
    "from qiskit.circuit.library import ZZFeatureMap\n",
    "\n",
    "num_features = X_train.shape[1]\n",
    "\n",
    "feature_map = ZZFeatureMap(feature_dimension=num_features, reps=1, entanglement='linear')\n",
    "feature_map.decompose().draw(output=\"mpl\", style=\"clifford\", fold=20)"
   ]
  },
  {
   "cell_type": "markdown",
   "id": "2b351f69-b77e-4648-a641-5c40ee583269",
   "metadata": {},
   "source": [
    "### 3. Define a variational Ansatz\n",
    "\n",
    "The variational ansatz applies trainable gates to the quantum state produced by the feature map."
   ]
  },
  {
   "cell_type": "code",
   "execution_count": 14,
   "id": "591f6bd6-8138-4a48-9d14-a82103b1a77f",
   "metadata": {
    "tags": []
   },
   "outputs": [
    {
     "data": {
      "image/png": "[encoded data removed]",
      "text/plain": [
       "<Figure size 538.128x200.667 with 1 Axes>"
      ]
     },
     "execution_count": 14,
     "metadata": {},
     "output_type": "execute_result"
    }
   ],
   "source": [
    "from qiskit.circuit.library import RealAmplitudes\n",
    "\n",
    "ansatz = RealAmplitudes(num_qubits=num_features, reps=2, entanglement='linear')\n",
    "ansatz.decompose().draw(output=\"mpl\", style=\"clifford\", fold=20)"
   ]
  },
  {
   "cell_type": "markdown",
   "id": "7351d016-b46d-46b6-b4a0-0dd025fd948a",
   "metadata": {},
   "source": [
    "### 4. Define the Model: Variational Quantum Classifier\n",
    "\n",
    "Use the VQC (Variational Quantum Classifier) from Qiskit's machine learning module.\n",
    "\n",
    "Documentation: https://qiskit-community.github.io/qiskit-machine-learning/_modules/qiskit_machine_learning/algorithms/classifiers/vqc.html\n"
   ]
  },
  {
   "cell_type": "code",
   "execution_count": 18,
   "id": "eb519b3b",
   "metadata": {},
   "outputs": [
    {
     "name": "stdout",
     "output_type": "stream",
     "text": [
      "Collecting qiskit_algorithms\n",
      "  Downloading qiskit_algorithms-0.3.1-py3-none-any.whl.metadata (4.2 kB)\n",
      "Requirement already satisfied: qiskit>=0.44 in /root/anaconda3/envs/braket/lib/python3.9/site-packages (from qiskit_algorithms) (1.2.4)\n",
      "Requirement already satisfied: scipy>=1.4 in /root/anaconda3/envs/braket/lib/python3.9/site-packages (from qiskit_algorithms) (1.13.1)\n",
      "Requirement already satisfied: numpy>=1.17 in /root/anaconda3/envs/braket/lib/python3.9/site-packages (from qiskit_algorithms) (1.26.4)\n",
      "Requirement already satisfied: rustworkx>=0.15.0 in /root/anaconda3/envs/braket/lib/python3.9/site-packages (from qiskit>=0.44->qiskit_algorithms) (0.15.1)\n",
      "Requirement already satisfied: sympy>=1.3 in /root/anaconda3/envs/braket/lib/python3.9/site-packages (from qiskit>=0.44->qiskit_algorithms) (1.13.3)\n",
      "Requirement already satisfied: dill>=0.3 in /root/anaconda3/envs/braket/lib/python3.9/site-packages (from qiskit>=0.44->qiskit_algorithms) (0.3.9)\n",
      "Requirement already satisfied: python-dateutil>=2.8.0 in /root/anaconda3/envs/braket/lib/python3.9/site-packages (from qiskit>=0.44->qiskit_algorithms) (2.9.0)\n",
      "Requirement already satisfied: stevedore>=3.0.0 in /root/anaconda3/envs/braket/lib/python3.9/site-packages (from qiskit>=0.44->qiskit_algorithms) (5.3.0)\n",
      "Requirement already satisfied: typing-extensions in /root/anaconda3/envs/braket/lib/python3.9/site-packages (from qiskit>=0.44->qiskit_algorithms) (4.12.2)\n",
      "Requirement already satisfied: symengine<0.14,>=0.11 in /root/anaconda3/envs/braket/lib/python3.9/site-packages (from qiskit>=0.44->qiskit_algorithms) (0.13.0)\n",
      "Requirement already satisfied: six>=1.5 in /root/anaconda3/envs/braket/lib/python3.9/site-packages (from python-dateutil>=2.8.0->qiskit>=0.44->qiskit_algorithms) (1.16.0)\n",
      "Requirement already satisfied: pbr>=2.0.0 in /root/anaconda3/envs/braket/lib/python3.9/site-packages (from stevedore>=3.0.0->qiskit>=0.44->qiskit_algorithms) (6.1.0)\n",
      "Requirement already satisfied: mpmath<1.4,>=1.1.0 in /root/anaconda3/envs/braket/lib/python3.9/site-packages (from sympy>=1.3->qiskit>=0.44->qiskit_algorithms) (1.3.0)\n",
      "Downloading qiskit_algorithms-0.3.1-py3-none-any.whl (310 kB)\n",
      "Installing collected packages: qiskit_algorithms\n",
      "Successfully installed qiskit_algorithms-0.3.1\n",
      "\u001b[33mWARNING: Running pip as the 'root' user can result in broken permissions and conflicting behaviour with the system package manager, possibly rendering your system unusable.It is recommended to use a virtual environment instead: https://pip.pypa.io/warnings/venv. Use the --root-user-action option if you know what you are doing and want to suppress this warning.\u001b[0m\u001b[33m\n",
      "\u001b[0m"
     ]
    }
   ],
   "source": [
    "!pip install qiskit_algorithms"
   ]
  },
  {
   "cell_type": "code",
   "execution_count": null,
   "id": "abb4a338-a54f-4052-9bc5-cb044e71c67c",
   "metadata": {
    "tags": []
   },
   "outputs": [
    {
     "name": "stderr",
     "output_type": "stream",
     "text": [
      "Training Progress:   0%|          | 0/100 [04:49<?, ?it/s]\n"
     ]
    }
   ],
   "source": [
    "from qiskit_machine_learning.algorithms.classifiers import VQC\n",
    "from qiskit_algorithms.optimizers import COBYLA\n",
    "from qiskit.primitives import StatevectorSampler\n",
    "\n",
    "from tqdm import tqdm\n",
    "\n",
    "# Initialize the optimizer\n",
    "optimizer = COBYLA(maxiter=100)\n",
    "\n",
    "# Initialize the Sampler primitive\n",
    "sampler = StatevectorSampler() #backend=qpu_backend)\n",
    "\n",
    "# Defining a callback to see the iteration\n",
    "def verbose_callback(weights, objective_value):\n",
    "    \"\"\"\n",
    "    Verbose callback function to monitor the training process during fit.\n",
    "\n",
    "    Args:\n",
    "        weights (np.ndarray): Current variational circuit parameters.\n",
    "        objective_value (float): Current loss value.\n",
    "    \"\"\"\n",
    "    print(f\"Iteration: Objective Value = {objective_value:.4f}, Weights = {weights}\")\n",
    "\n",
    "# Initialize a global progress bar\n",
    "progress_bar = tqdm(total=100, desc=\"Training Progress\")  # Replace 100 with your optimizer's max iterations\n",
    "\n",
    "def tqdm_callback(weights, objective_value):\n",
    "    \"\"\"\n",
    "    Callback function to update the tqdm progress bar during training.\n",
    "\n",
    "    Args:\n",
    "        weights (np.ndarray): Current variational circuit parameters.\n",
    "        objective_value (float): Current value of the loss function.\n",
    "    \"\"\"\n",
    "    progress_bar.update(1)\n",
    "    progress_bar.set_postfix({\"Loss\": objective_value})\n",
    "\n",
    "# Build the Quantum Variational Classifier\n",
    "# Num Qubits is specified as None, so that we just use the number of qubits\n",
    "# specified by the quantum feature map\n",
    "\n",
    "vqc = VQC(feature_map=feature_map, \n",
    "          ansatz=ansatz, \n",
    "          optimizer=optimizer,\n",
    "          sampler=sampler,\n",
    "          callback=tqdm_callback\n",
    "         )"
   ]
  },
  {
   "cell_type": "markdown",
   "id": "375527a8-4d5b-42eb-8d7b-e5a126ada9cd",
   "metadata": {
    "tags": []
   },
   "source": [
    "### 5. Train the VQC\n",
    "\n",
    "Now we will start training the quantum circuit"
   ]
  },
  {
   "cell_type": "code",
   "execution_count": null,
   "id": "60ccf2a9-bef9-463c-a658-eca00c6c7f4a",
   "metadata": {
    "tags": []
   },
   "outputs": [
    {
     "name": "stderr",
     "output_type": "stream",
     "text": []
    }
   ],
   "source": [
    "vqc.fit(X_train, Y_train)\n"
   ]
  },
  {
   "cell_type": "markdown",
   "id": "b072dd6c-28c9-4b6a-9dbb-545ca1480285",
   "metadata": {},
   "source": [
    "### 6. Testing of the VQC\n",
    "\n",
    "Here, we will figure out the accuracy of the VQC, both on the train set and the test set. \n"
   ]
  },
  {
   "cell_type": "code",
   "execution_count": null,
   "id": "d6b2f77d-dbf1-4136-8e7c-d45c9b75122d",
   "metadata": {},
   "outputs": [],
   "source": [
    "train_score_q4 = vqc.score(X_train, Y_train)\n",
    "test_score_q4 = vqc.score(X_test, Y_test)\n",
    "\n",
    "print(f\"Quantum VQC on the training dataset: {train_score_q4:.2f}\")\n",
    "print(f\"Quantum VQC on the test dataset:     {test_score_q4:.2f}\")"
   ]
  },
  {
   "cell_type": "code",
   "execution_count": null,
   "id": "ebdf2379-9579-4c23-823c-076bda28a76c",
   "metadata": {},
   "outputs": [],
   "source": []
  }
 ],
 "metadata": {
  "kernelspec": {
   "display_name": "braket",
   "language": "python",
   "name": "python3"
  },
  "language_info": {
   "codemirror_mode": {
    "name": "ipython",
    "version": 3
   },
   "file_extension": ".py",
   "mimetype": "text/x-python",
   "name": "python",
   "nbconvert_exporter": "python",
   "pygments_lexer": "ipython3",
   "version": "3.9.20"
  }
 },
 "nbformat": 4,
 "nbformat_minor": 5
}
