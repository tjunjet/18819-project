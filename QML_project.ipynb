{
 "cells": [
  {
   "cell_type": "markdown",
   "id": "54754da0-f94d-4468-81a9-1c61607c217a",
   "metadata": {
    "tags": []
   },
   "source": [
    "# 18-819 QML Project running QVC to QiSkit"
   ]
  },
  {
   "cell_type": "code",
   "execution_count": 26,
   "id": "fe363d14-b88d-4348-a9cc-a72ebf41d72d",
   "metadata": {
    "tags": []
   },
   "outputs": [],
   "source": [
    "# Use Braket SDK Cost Tracking to estimate cost\n",
    "from braket.tracking import Tracker\n",
    "t = Tracker().start()"
   ]
  },
  {
   "cell_type": "markdown",
   "id": "9e57decc-4d1b-48f9-8fa9-9e7db5a44484",
   "metadata": {},
   "source": [
    "### Accessing Quantum Processing Units\n",
    "\n",
    "We will access third party QPUs to run our training on quantum hardware. \n",
    "\n"
   ]
  },
  {
   "cell_type": "code",
   "execution_count": 27,
   "id": "b0427cec-bb47-4e71-97fe-bc0d34d47d98",
   "metadata": {
    "tags": []
   },
   "outputs": [
    {
     "data": {
      "text/plain": [
       "[]"
      ]
     },
     "execution_count": 27,
     "metadata": {},
     "output_type": "execute_result"
    }
   ],
   "source": [
    "from qiskit_braket_provider import BraketProvider\n",
    "\n",
    "provider = BraketProvider()\n",
    "\n",
    "# Seeing which QPUs are online\n",
    "provider.backends(statuses=[\"ONLINE\"], types=[\"QPU\"])\n"
   ]
  },
  {
   "cell_type": "code",
   "execution_count": 28,
   "id": "e860b183-caa1-437a-bcd3-805760469176",
   "metadata": {
    "tags": []
   },
   "outputs": [],
   "source": [
    "# qpu_backend = provider.get_backend(\"Aria 1\")\n",
    "\n",
    "# print(qpu_backend)"
   ]
  },
  {
   "cell_type": "code",
   "execution_count": 29,
   "id": "d8264973",
   "metadata": {},
   "outputs": [],
   "source": [
    "from qiskit_ibm_runtime import QiskitRuntimeService\n",
    "# token = \"5fda91fd4ae9fb270f2589d266bd22dc3f09166017a24200f05b06d521e228583779e1d2681bb29cbba459b5c24c5a4102894b11e22de77c85448ca28ea4e9fd\"\n",
    "token = \"363e3e6f5bc93bbecd915738efc09260cadfd6855e80efbf7fc0854951de819cb598c44db006cfd64e5df56c58a344de0d267905b6e4b9c25e8ab2bc2fead5cd\"\n",
    "QiskitRuntimeService.save_account(\n",
    "  token=token,\n",
    "  channel=\"ibm_quantum\", # `channel` distinguishes between different account types\n",
    "  overwrite=True\n",
    ")\n",
    " "
   ]
  },
  {
   "cell_type": "code",
   "execution_count": 30,
   "id": "9ff02e5a",
   "metadata": {},
   "outputs": [],
   "source": [
    "\n",
    "# After using the following code, go to your dashboard (https://quantum.ibm.com/)\n",
    "# and expire your API token (click the refresh button in the API token field)\n",
    "# service = QiskitRuntimeService(channel=\"ibm_quantum\", token=token)\n",
    "# backend = service.least_busy(operational=True, simulator=False)\n"
   ]
  },
  {
   "cell_type": "code",
   "execution_count": 31,
   "id": "cc387f0d",
   "metadata": {},
   "outputs": [],
   "source": [
    "# from qiskit import QuantumCircuit\n",
    "# from qiskit_ibm_runtime import QiskitRuntimeService, SamplerV2 as Sampler\n",
    " \n",
    "# # Create empty circuit\n",
    "# example_circuit = QuantumCircuit(2)\n",
    "# example_circuit.measure_all()\n",
    " \n",
    "# # You'll need to specify the credentials when initializing QiskitRuntimeService, if they were not previously saved.\n",
    "# service = QiskitRuntimeService()\n",
    "# backend = service.least_busy(operational=True, simulator=False)\n",
    " \n",
    "# sampler = Sampler(backend)\n",
    "# job = sampler.run([example_circuit])\n",
    "# print(f\"job id: {job.job_id()}\")\n",
    "# result = job.result()\n",
    "# print(result)"
   ]
  },
  {
   "cell_type": "markdown",
   "id": "926d73d7-9c45-4ef2-b5c5-b4e421c2c711",
   "metadata": {},
   "source": [
    "### Loading the Exoplanet training data\n",
    "\n",
    "The exoplanet training data has already been separated into X_train, X_test, y_train, y_test. \n",
    "\n",
    "We will use it for the training\n"
   ]
  },
  {
   "cell_type": "code",
   "execution_count": 32,
   "id": "9fc2c844-9be5-4d9b-b749-92b9bad1f796",
   "metadata": {
    "tags": []
   },
   "outputs": [],
   "source": [
    "import numpy as np\n",
    "import matplotlib.pyplot as plt\n",
    "import pandas as pd"
   ]
  },
  {
   "cell_type": "code",
   "execution_count": 33,
   "id": "7b0f28c4-9662-4bdd-9a88-8fec31dfc729",
   "metadata": {
    "tags": []
   },
   "outputs": [
    {
     "name": "stdout",
     "output_type": "stream",
     "text": [
      "X_train shape: (2000, 37)\n",
      "X_test shape: (1000, 37)\n",
      "Y_train shape: (2000,)\n",
      "Y_test shape: (1000,)\n"
     ]
    }
   ],
   "source": [
    "# X_train = np.loadtxt('middle_data/X_train.txt', delimiter=' ')\n",
    "# X_test  = np.loadtxt('middle_data/X_test.txt', delimiter=' ')\n",
    "\n",
    "# Y_train = np.loadtxt('middle_data/Y_train.txt', delimiter=' ')\n",
    "# Y_test  = np.loadtxt('middle_data/Y_test.txt', delimiter=' ')\n",
    "\n",
    "data = np.loadtxt('planet.txt', delimiter=',', dtype=float)\n",
    "\n",
    "X_train = data[:2000, :-1]\n",
    "Y_train = data[:2000, -1]\n",
    "\n",
    "X_test = data[2000:3000, :-1]\n",
    "Y_test = data[2000:3000, -1]\n",
    "\n",
    "\n",
    "print(f\"X_train shape: {X_train.shape}\")\n",
    "print(f\"X_test shape: {X_test.shape}\")\n",
    "print(f\"Y_train shape: {Y_train.shape}\")\n",
    "print(f\"Y_test shape: {Y_test.shape}\")"
   ]
  },
  {
   "cell_type": "code",
   "execution_count": 34,
   "id": "3dc664f9-038b-45a1-b7c6-50316e209545",
   "metadata": {
    "tags": []
   },
   "outputs": [
    {
     "name": "stdout",
     "output_type": "stream",
     "text": [
      "<class 'numpy.ndarray'>\n"
     ]
    }
   ],
   "source": [
    "print(type(X_train))"
   ]
  },
  {
   "cell_type": "markdown",
   "id": "375912a7-2de5-4e51-a259-0f6daf233621",
   "metadata": {
    "tags": []
   },
   "source": [
    "### 1. Data pre-processing \n",
    "\n",
    "In this step, we will perform normalization of the X dataset, and label y in binary terms"
   ]
  },
  {
   "cell_type": "code",
   "execution_count": 35,
   "id": "c36d7599-1004-4ccd-bf25-c75b3aa0afaf",
   "metadata": {
    "tags": []
   },
   "outputs": [
    {
     "name": "stdout",
     "output_type": "stream",
     "text": [
      "/bin/bash: line 1: /home/ec2-user/anaconda3/envs/Braket/bin/python: No such file or directory\n"
     ]
    }
   ],
   "source": [
    "!/home/ec2-user/anaconda3/envs/Braket/bin/python -m pip install scikit-learn pylatexenc"
   ]
  },
  {
   "cell_type": "code",
   "execution_count": 36,
   "id": "433f5f43-456a-4fc0-8975-15a1d9f14ffe",
   "metadata": {
    "tags": []
   },
   "outputs": [
    {
     "name": "stdout",
     "output_type": "stream",
     "text": [
      "X_train shape after selection: (2000, 2)\n",
      "X_test shape after selection: (1000, 2)\n"
     ]
    }
   ],
   "source": [
    "from sklearn.decomposition import PCA\n",
    "from sklearn.preprocessing import MinMaxScaler\n",
    "\n",
    "# Dimensionality reduction\n",
    "pca = PCA(n_components=2)\n",
    "X_train = pca.fit_transform(X_train)\n",
    "X_test = pca.transform(X_test)\n",
    "\n",
    "# Normalize data to the range [-1, 1] (use the training set to fit the scaler)\n",
    "scaler = MinMaxScaler(feature_range=(-1, 1))\n",
    "X_train = scaler.fit_transform(X_train)\n",
    "X_test = scaler.transform(X_test)\n",
    "\n",
    "# Ensure labels are binary (if not already binary)\n",
    "Y_train = (Y_train > np.median(Y_train)).astype(int)\n",
    "Y_test = (Y_test > np.median(Y_test)).astype(int)\n",
    "\n",
    "print(f\"X_train shape after selection: {X_train.shape}\")\n",
    "print(f\"X_test shape after selection: {X_test.shape}\")"
   ]
  },
  {
   "cell_type": "code",
   "execution_count": 37,
   "id": "b5c062ad",
   "metadata": {},
   "outputs": [
    {
     "data": {
      "text/plain": [
       "-1.0"
      ]
     },
     "execution_count": 37,
     "metadata": {},
     "output_type": "execute_result"
    }
   ],
   "source": [
    "np.min(X_train)"
   ]
  },
  {
   "cell_type": "code",
   "execution_count": 38,
   "id": "63af4730",
   "metadata": {},
   "outputs": [
    {
     "data": {
      "text/plain": [
       "(array([-0.99970882, -0.07410542]), 0)"
      ]
     },
     "execution_count": 38,
     "metadata": {},
     "output_type": "execute_result"
    }
   ],
   "source": [
    "X_train[0], Y_train[0]"
   ]
  },
  {
   "cell_type": "markdown",
   "id": "c992bf1c-41e1-4f53-b20e-7620573e67a8",
   "metadata": {},
   "source": [
    "Encoding the data into quantum states"
   ]
  },
  {
   "cell_type": "markdown",
   "id": "4920cd60-b70b-41ef-9789-bdb610803ad7",
   "metadata": {},
   "source": [
    "### 2. Defining the ZZFeatureMap\n",
    "\n",
    "The ZZFeatureMap encodes the classical data into a quantum state. The depth determines the number of repeated layers in the feature map."
   ]
  },
  {
   "cell_type": "code",
   "execution_count": 7,
   "id": "a4eb1626-aeb9-47e7-8da1-9513da6d0aa9",
   "metadata": {
    "tags": []
   },
   "outputs": [
    {
     "data": {
      "image/png": "[encoded data removed]",
      "text/plain": [
       "<Figure size 705.35x200.667 with 1 Axes>"
      ]
     },
     "execution_count": 7,
     "metadata": {},
     "output_type": "execute_result"
    }
   ],
   "source": [
    "from qiskit.circuit.library import ZZFeatureMap, PauliFeatureMap\n",
    "\n",
    "# num_features = X_train.shape[1]\n",
    "num_features = 2\n",
    "feature_map = PauliFeatureMap(feature_dimension=num_features, reps=1, entanglement='linear')\n",
    "# feature_map = ZZFeatureMap(feature_dimension=num_features, reps=1, entanglement='linear')\n",
    "feature_map.decompose().draw(output=\"mpl\", style=\"clifford\", fold=20)\n"
   ]
  },
  {
   "cell_type": "code",
   "execution_count": 40,
   "id": "8edd1c5f",
   "metadata": {},
   "outputs": [],
   "source": [
    "# https://docs.quantum.ibm.com/guides/transpile\n",
    "# https://docs.quantum.ibm.com/guides/transpile-with-pass-managers\n",
    "from qiskit.transpiler.preset_passmanagers import generate_preset_pass_manager\n",
    " \n",
    "pass_manager = generate_preset_pass_manager(\n",
    "    optimization_level=3, backend=backend\n",
    ")"
   ]
  },
  {
   "cell_type": "code",
   "execution_count": 41,
   "id": "aa8a7863",
   "metadata": {},
   "outputs": [
    {
     "data": {
      "image/png": "[encoded data removed]",
      "text/plain": [
       "<Figure size 1947.02x200.667 with 1 Axes>"
      ]
     },
     "execution_count": 41,
     "metadata": {},
     "output_type": "execute_result"
    }
   ],
   "source": [
    "transpiled_feature_map = pass_manager.run(feature_map)\n",
    "transpiled_feature_map.draw(\"mpl\", idle_wires=False)"
   ]
  },
  {
   "cell_type": "markdown",
   "id": "2b351f69-b77e-4648-a641-5c40ee583269",
   "metadata": {},
   "source": [
    "### 3. Define a variational Ansatz\n",
    "\n",
    "The variational ansatz applies trainable gates to the quantum state produced by the feature map."
   ]
  },
  {
   "cell_type": "code",
   "execution_count": 42,
   "id": "591f6bd6-8138-4a48-9d14-a82103b1a77f",
   "metadata": {
    "tags": []
   },
   "outputs": [
    {
     "data": {
      "image/png": "[encoded data removed]",
      "text/plain": [
       "<Figure size 538.128x200.667 with 1 Axes>"
      ]
     },
     "execution_count": 42,
     "metadata": {},
     "output_type": "execute_result"
    }
   ],
   "source": [
    "from qiskit.circuit.library import RealAmplitudes\n",
    "\n",
    "ansatz = RealAmplitudes(num_qubits=num_features, reps=2, entanglement='linear')\n",
    "ansatz.decompose().draw(output=\"mpl\", style=\"clifford\", fold=20)"
   ]
  },
  {
   "cell_type": "code",
   "execution_count": 43,
   "id": "fe4f4a15",
   "metadata": {},
   "outputs": [
    {
     "data": {
      "image/png": "[encoded data removed]",
      "text/plain": [
       "<Figure size 1695.98x200.667 with 1 Axes>"
      ]
     },
     "execution_count": 43,
     "metadata": {},
     "output_type": "execute_result"
    }
   ],
   "source": [
    "transpiled_ansatz = pass_manager.run(ansatz)\n",
    "transpiled_ansatz.draw(\"mpl\", idle_wires=False)"
   ]
  },
  {
   "cell_type": "markdown",
   "id": "7351d016-b46d-46b6-b4a0-0dd025fd948a",
   "metadata": {},
   "source": [
    "### 4. Define the Model: Variational Quantum Classifier\n",
    "\n",
    "Use the VQC (Variational Quantum Classifier) from Qiskit's machine learning module.\n",
    "\n",
    "Documentation: https://qiskit-community.github.io/qiskit-machine-learning/_modules/qiskit_machine_learning/algorithms/classifiers/vqc.html\n"
   ]
  },
  {
   "cell_type": "code",
   "execution_count": 44,
   "id": "abb4a338-a54f-4052-9bc5-cb044e71c67c",
   "metadata": {
    "tags": []
   },
   "outputs": [
    {
     "name": "stderr",
     "output_type": "stream",
     "text": [
      "Training Progress:   3%|▎         | 3/100 [4:54:01<158:26:32, 5880.33s/it, Loss=2.25]\n"
     ]
    }
   ],
   "source": [
    "from qiskit_machine_learning.algorithms.classifiers import VQC\n",
    "from qiskit_algorithms.optimizers import COBYLA\n",
    "from qiskit.primitives import StatevectorSampler\n",
    "# from qiskit_ibm_runtime import QiskitRuntimeService, SamplerV2 as Sampler\n",
    "\n",
    "\n",
    "from tqdm import tqdm\n",
    "\n",
    "# Initialize the optimizer\n",
    "optimizer = COBYLA(maxiter=100)\n",
    "\n",
    "# Initialize the Sampler primitive\n",
    "# sampler = Sampler(backend) #StatevectorSampler() #backend=qpu_backend)\n",
    "sampler = StatevectorSampler()\n",
    "\n",
    "# Defining a callback to see the iteration\n",
    "def verbose_callback(weights, objective_value):\n",
    "    \"\"\"\n",
    "    Verbose callback function to monitor the training process during fit.\n",
    "\n",
    "    Args:\n",
    "        weights (np.ndarray): Current variational circuit parameters.\n",
    "        objective_value (float): Current loss value.\n",
    "    \"\"\"\n",
    "    print(f\"Iteration: Objective Value = {objective_value:.4f}, Weights = {weights}\")\n",
    "\n",
    "# Initialize a global progress bar\n",
    "progress_bar = tqdm(total=100, desc=\"Training Progress\")  # Replace 100 with your optimizer's max iterations\n",
    "\n",
    "def tqdm_callback(weights, objective_value):\n",
    "    \"\"\"\n",
    "    Callback function to update the tqdm progress bar during training.\n",
    "\n",
    "    Args:\n",
    "        weights (np.ndarray): Current variational circuit parameters.\n",
    "        objective_value (float): Current value of the loss function.\n",
    "    \"\"\"\n",
    "    progress_bar.update(1)\n",
    "    progress_bar.set_postfix({\"Loss\": objective_value})\n",
    "\n",
    "# Build the Quantum Variational Classifier\n",
    "# Num Qubits is specified as None, so that we just use the number of qubits\n",
    "# specified by the quantum feature map\n",
    "\n",
    "# vqc = VQC(feature_map=transpiled_feature_map, \n",
    "#           ansatz=transpiled_ansatz, \n",
    "#           optimizer=optimizer,\n",
    "#           loss=\"cross_entropy\", # default\n",
    "#           sampler=sampler,\n",
    "#           callback=tqdm_callback,  \n",
    "#          )\n",
    "\n",
    "vqc = VQC(feature_map=feature_map, \n",
    "          ansatz=ansatz, \n",
    "          optimizer=optimizer,\n",
    "          loss=\"cross_entropy\", # default\n",
    "          sampler=sampler,\n",
    "          callback=tqdm_callback,  \n",
    "         )\n"
   ]
  },
  {
   "cell_type": "markdown",
   "id": "375527a8-4d5b-42eb-8d7b-e5a126ada9cd",
   "metadata": {
    "tags": []
   },
   "source": [
    "### 5. Train the VQC\n",
    "\n",
    "Now we will start training the quantum circuit"
   ]
  },
  {
   "cell_type": "code",
   "execution_count": 45,
   "id": "303e8cdb",
   "metadata": {},
   "outputs": [
    {
     "name": "stdout",
     "output_type": "stream",
     "text": [
      "<qiskit_ibm_runtime.models.backend_configuration.PulseBackendConfiguration object at 0x7f5b1d50bdf0>\n"
     ]
    }
   ],
   "source": [
    "print(backend.configuration())\n"
   ]
  },
  {
   "cell_type": "code",
   "execution_count": 46,
   "id": "de7bae58",
   "metadata": {},
   "outputs": [],
   "source": [
    "batch_size = 200\n",
    "\n",
    "# Split data into batches\n",
    "data_batches = [\n",
    "    (X_train[i:i+batch_size], Y_train[i:i+batch_size])\n",
    "    for i in range(0, len(X_train), batch_size)\n",
    "]"
   ]
  },
  {
   "cell_type": "code",
   "execution_count": 47,
   "id": "12e64d7e",
   "metadata": {},
   "outputs": [
    {
     "name": "stdout",
     "output_type": "stream",
     "text": [
      "(200, 2) (200,)\n",
      "(2000, 2) (2000,)\n"
     ]
    },
    {
     "data": {
      "text/plain": [
       "array([0, 1, 0, 1, 0, 1, 0, 1, 0, 1, 0, 1, 0, 1, 0, 1, 0, 1, 0, 1, 0, 1,\n",
       "       0, 1, 0, 1, 0, 1, 0, 1, 0, 1, 0, 1, 0, 1, 0, 1, 0, 1, 0, 1, 0, 1,\n",
       "       0, 1, 0, 1, 0, 1, 0, 1, 0, 1, 0, 1, 0, 1, 0, 1, 0, 1, 0, 1, 0, 1,\n",
       "       0, 1, 0, 1, 0, 1, 0, 1, 0, 1, 0, 1, 0, 1, 0, 1, 0, 1, 0, 1, 0, 1,\n",
       "       0, 1, 0, 1, 0, 1, 0, 1, 0, 1, 0, 1, 0, 1, 0, 1, 0, 1, 0, 1, 0, 1,\n",
       "       0, 1, 0, 1, 0, 1, 0, 1, 0, 1, 0, 1, 0, 1, 0, 1, 0, 1, 0, 1, 0, 1,\n",
       "       0, 1, 0, 1, 0, 1, 0, 1, 0, 1, 0, 1, 0, 1, 0, 1, 0, 1, 0, 1, 0, 1,\n",
       "       0, 1, 0, 1, 0, 1, 0, 1, 0, 1, 0, 1, 0, 1, 0, 1, 0, 1, 0, 1, 0, 1,\n",
       "       0, 1, 0, 1, 0, 1, 0, 1, 0, 1, 0, 1, 0, 1, 0, 1, 0, 1, 0, 1, 0, 1,\n",
       "       0, 1])"
      ]
     },
     "execution_count": 47,
     "metadata": {},
     "output_type": "execute_result"
    }
   ],
   "source": [
    "x_batch, y_batch = data_batches[0]\n",
    "print(x_batch.shape, y_batch.shape)\n",
    "print(X_train.shape, Y_train.shape)\n",
    "y_batch"
   ]
  },
  {
   "cell_type": "code",
   "execution_count": 48,
   "id": "f67a96ca",
   "metadata": {},
   "outputs": [
    {
     "name": "stdout",
     "output_type": "stream",
     "text": [
      "(200, 2) (200,)\n"
     ]
    },
    {
     "name": "stderr",
     "output_type": "stream",
     "text": [
      "Training Progress:  59%|█████▉    | 59/100 [02:19<01:03,  1.56s/it, Loss=0.957]"
     ]
    },
    {
     "name": "stdout",
     "output_type": "stream",
     "text": [
      "(200, 2) (200,)\n"
     ]
    },
    {
     "name": "stderr",
     "output_type": "stream",
     "text": [
      "Training Progress: 136it [04:09,  1.33s/it, Loss=0.957]                         "
     ]
    },
    {
     "name": "stdout",
     "output_type": "stream",
     "text": [
      "(200, 2) (200,)\n"
     ]
    },
    {
     "name": "stderr",
     "output_type": "stream",
     "text": [
      "Training Progress: 201it [05:40,  1.40s/it, Loss=0.96] "
     ]
    },
    {
     "name": "stdout",
     "output_type": "stream",
     "text": [
      "(200, 2) (200,)\n"
     ]
    },
    {
     "name": "stderr",
     "output_type": "stream",
     "text": [
      "Training Progress: 261it [07:02,  1.38s/it, Loss=0.966]"
     ]
    },
    {
     "name": "stdout",
     "output_type": "stream",
     "text": [
      "(200, 2) (200,)\n"
     ]
    },
    {
     "name": "stderr",
     "output_type": "stream",
     "text": [
      "Training Progress: 323it [08:27,  1.38s/it, Loss=0.972]"
     ]
    },
    {
     "name": "stdout",
     "output_type": "stream",
     "text": [
      "(200, 2) (200,)\n"
     ]
    },
    {
     "name": "stderr",
     "output_type": "stream",
     "text": [
      "Training Progress: 396it [10:39,  1.90s/it, Loss=0.916]"
     ]
    },
    {
     "name": "stdout",
     "output_type": "stream",
     "text": [
      "(200, 2) (200,)\n"
     ]
    },
    {
     "name": "stderr",
     "output_type": "stream",
     "text": [
      "Training Progress: 469it [12:39,  1.46s/it, Loss=0.935]"
     ]
    },
    {
     "name": "stdout",
     "output_type": "stream",
     "text": [
      "(200, 2) (200,)\n"
     ]
    },
    {
     "name": "stderr",
     "output_type": "stream",
     "text": [
      "Training Progress: 532it [14:08,  1.59s/it, Loss=0.963]"
     ]
    },
    {
     "name": "stdout",
     "output_type": "stream",
     "text": [
      "(200, 2) (200,)\n"
     ]
    },
    {
     "name": "stderr",
     "output_type": "stream",
     "text": [
      "Training Progress: 599it [15:58,  1.28s/it, Loss=0.926]"
     ]
    },
    {
     "name": "stdout",
     "output_type": "stream",
     "text": [
      "(200, 2) (200,)\n"
     ]
    },
    {
     "name": "stderr",
     "output_type": "stream",
     "text": [
      "Training Progress: 672it [17:49,  1.42s/it, Loss=0.957]"
     ]
    }
   ],
   "source": [
    "for x_batch, y_batch in data_batches:\n",
    "    print(x_batch.shape, y_batch.shape)\n",
    "    vqc.fit(x_batch, y_batch)"
   ]
  },
  {
   "cell_type": "code",
   "execution_count": 49,
   "id": "60ccf2a9-bef9-463c-a658-eca00c6c7f4a",
   "metadata": {
    "tags": []
   },
   "outputs": [],
   "source": [
    "# vqc.fit(X_train, Y_train)\n"
   ]
  },
  {
   "cell_type": "markdown",
   "id": "b072dd6c-28c9-4b6a-9dbb-545ca1480285",
   "metadata": {},
   "source": [
    "### 6. Testing of the VQC\n",
    "\n",
    "Here, we will figure out the accuracy of the VQC, both on the train set and the test set. \n"
   ]
  },
  {
   "cell_type": "code",
   "execution_count": 50,
   "id": "d6b2f77d-dbf1-4136-8e7c-d45c9b75122d",
   "metadata": {},
   "outputs": [
    {
     "name": "stdout",
     "output_type": "stream",
     "text": [
      "Quantum VQC on the training dataset: 0.61\n",
      "Quantum VQC on the test dataset:     0.61\n"
     ]
    }
   ],
   "source": [
    "train_score_q4 = vqc.score(X_train, Y_train)\n",
    "test_score_q4 = vqc.score(X_test, Y_test)\n",
    "\n",
    "print(f\"Quantum VQC on the training dataset: {train_score_q4:.2f}\")\n",
    "print(f\"Quantum VQC on the test dataset:     {test_score_q4:.2f}\")"
   ]
  }
 ],
 "metadata": {
  "kernelspec": {
   "display_name": "braket",
   "language": "python",
   "name": "python3"
  },
  "language_info": {
   "codemirror_mode": {
    "name": "ipython",
    "version": 3
   },
   "file_extension": ".py",
   "mimetype": "text/x-python",
   "name": "python",
   "nbconvert_exporter": "python",
   "pygments_lexer": "ipython3",
   "version": "3.9.20"
  }
 },
 "nbformat": 4,
 "nbformat_minor": 5
}
